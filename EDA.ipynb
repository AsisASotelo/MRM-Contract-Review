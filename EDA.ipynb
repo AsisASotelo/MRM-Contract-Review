{
 "cells": [
  {
   "cell_type": "markdown",
   "metadata": {},
   "source": [
    "# Exploratory Data Analysis of PDFs\n"
   ]
  },
  {
   "cell_type": "code",
   "execution_count": 1,
   "metadata": {},
   "outputs": [
    {
     "name": "stdout",
     "output_type": "stream",
     "text": [
      "\n",
      "PyMuPDF 1.19.6: Python bindings for the MuPDF 1.19.0 library.\n",
      "Version date: 2022-03-03 00:00:01.\n",
      "Built for Python 3.9 on win32 (64-bit).\n",
      "\n"
     ]
    }
   ],
   "source": [
    "import fitz \n",
    "import re\n",
    "print(fitz.__doc__)"
   ]
  },
  {
   "cell_type": "code",
   "execution_count": 2,
   "metadata": {},
   "outputs": [
    {
     "name": "stdout",
     "output_type": "stream",
     "text": [
      "4\n"
     ]
    }
   ],
   "source": [
    "doc = fitz.open('SO 13662 - signed.pdf')\n",
    "print(doc.page_count)\n"
   ]
  },
  {
   "cell_type": "code",
   "execution_count": 4,
   "metadata": {},
   "outputs": [
    {
     "data": {
      "text/plain": [
       "{'format': 'PDF 1.7',\n",
       " 'title': 'Master Research & Mfg.',\n",
       " 'author': 'Bob Barker',\n",
       " 'subject': '',\n",
       " 'keywords': '',\n",
       " 'creator': 'Microsoft® Word for Microsoft 365',\n",
       " 'producer': 'Adobe Sign',\n",
       " 'creationDate': \"D:20200930065642-07'00'\",\n",
       " 'modDate': \"D:20211221123755-08'00'\",\n",
       " 'trapped': '',\n",
       " 'encryption': 'Standard V4 R4 128-bit AES'}"
      ]
     },
     "execution_count": 4,
     "metadata": {},
     "output_type": "execute_result"
    }
   ],
   "source": [
    "doc.metadata"
   ]
  },
  {
   "cell_type": "markdown",
   "metadata": {},
   "source": [
    "## Load the Page and Turn Into Image"
   ]
  },
  {
   "cell_type": "code",
   "execution_count": 5,
   "metadata": {},
   "outputs": [],
   "source": [
    "page = doc[0]\n"
   ]
  },
  {
   "cell_type": "code",
   "execution_count": 6,
   "metadata": {},
   "outputs": [],
   "source": [
    "pix = page.get_pixmap(dpi=200)\n",
    "pix.save('new-out.png')"
   ]
  },
  {
   "cell_type": "code",
   "execution_count": 35,
   "metadata": {},
   "outputs": [],
   "source": [
    "i=0\n",
    "for page in doc:\n",
    "    pix = page.get_pixmap(dpi=200)\n",
    "    pix.save( str(i) + 'new-out.png')\n",
    "    i+=1\n"
   ]
  },
  {
   "cell_type": "markdown",
   "metadata": {},
   "source": [
    "## Begin OpenCv Analyze"
   ]
  },
  {
   "cell_type": "code",
   "execution_count": 3,
   "metadata": {},
   "outputs": [],
   "source": [
    "import pytesseract\n",
    "pytesseract.pytesseract.tesseract_cmd = r'C:\\Users\\asis.sotelo\\AppData\\Local\\Programs\\Tesseract-OCR\\\\tesseract.exe'"
   ]
  },
  {
   "cell_type": "code",
   "execution_count": 4,
   "metadata": {},
   "outputs": [
    {
     "name": "stdout",
     "output_type": "stream",
     "text": [
      "4.5.5\n"
     ]
    }
   ],
   "source": [
    "import cv2 as cv\n",
    "print(cv.__version__)"
   ]
  },
  {
   "cell_type": "code",
   "execution_count": 5,
   "metadata": {},
   "outputs": [],
   "source": [
    "img = cv.imread(r'.\\PDF_IMAGE\\13344 - signedimage-page-0-.png')"
   ]
  },
  {
   "cell_type": "code",
   "execution_count": 8,
   "metadata": {},
   "outputs": [],
   "source": [
    "rect_dict = {\n",
    "    'Sect1Risk1':[(513,494),(546,529)],\n",
    "    'Sect1Risk2':[(694,496),(719,529)],\n",
    "    'Sect1Risk3':[(916,496),(949,529)],\n",
    "    'Sect1Risk4':[(1146,496),(1177,531)],\n",
    "    'Sect1Risk5':[(1308,492),(1338,522)],\n",
    "    'Sect2Risk1':[(513,974),(546,1007)],\n",
    "    'Sect2Risk2':[(691,974),(719,1005)],\n",
    "    'Sect2Risk3':[(919,974),(947,1009)],\n",
    "    'Sect2Risk4':[(1153,972),(1184,1007)],\n",
    "    'Sect2Risk5':[(1303,972),(1334,1007)],\n",
    "    'Sect3Risk1':[(520,1454),(548,1490)],\n",
    "    'Sect3Risk2':[(694,1457),(722,1490)],\n",
    "    'Sect3Risk3':[(919,1457),(949,1487)],\n",
    "    'Sect3Risk4':[(1148,1457),(1179,1487)],\n",
    "    'Sect3Risk5':[(1303,1454),(1334,1490)],\n",
    "    'Sect4Risk1':[(511,1792),(536,1825)],\n",
    "    'Sect4Risk2':[(691,1792),(724,1820)],\n",
    "    'Sect4Risk3':[(916,1789),(947,1820)],\n",
    "    'Sect4Risk4':[(1146,1792),(1177,1822)],\n",
    "    'Sect4Risk5':[(1306,1792),(1336,1822)],\n",
    "    'Sect5Risk1':[(520,2035),(551,2066)],\n",
    "    'Sect5Risk2':[(698,2033),(726,2066)],\n",
    "    'Sect5Risk3':[(909,2031),(940,2061)],\n",
    "    'Sect5Risk4':[(1146,2033),(1177,2064)],\n",
    "    'Sect5Risk5':[(1316,2034),(1346,2067)],\n",
    "    'ContractReviewNumber':[(855,107),(1172,135)],\n",
    "    'SalesOrderText':[(522,98),(813,147)],\n",
    "    'PartText':[(),()]\n",
    "\n",
    "}"
   ]
  },
  {
   "cell_type": "code",
   "execution_count": 6,
   "metadata": {},
   "outputs": [],
   "source": [
    "cv.imshow('Display Window',img)\n",
    "k = cv.waitKey(0)\n",
    "cv.destroyAllWindows()"
   ]
  },
  {
   "cell_type": "code",
   "execution_count": 15,
   "metadata": {},
   "outputs": [],
   "source": [
    "contract_review_image = img[rect_dict['ContractReviewNumber'][0][1]:rect_dict['ContractReviewNumber'][1][1],rect_dict['ContractReviewNumber'][0][0]:rect_dict['ContractReviewNumber'][1][0]]"
   ]
  },
  {
   "cell_type": "code",
   "execution_count": 16,
   "metadata": {},
   "outputs": [],
   "source": [
    "sales_order_image = img[rect_dict['SalesOrderText'][0][1]:rect_dict['SalesOrderText'][1][1],rect_dict['SalesOrderText'][0][0]:rect_dict['SalesOrderText'][1][0]]"
   ]
  },
  {
   "cell_type": "code",
   "execution_count": 18,
   "metadata": {},
   "outputs": [],
   "source": [
    "cv.imshow('Display Window',sales_order_image)\n",
    "k = cv.waitKey(0)\n",
    "cv.destroyAllWindows()"
   ]
  },
  {
   "cell_type": "code",
   "execution_count": 21,
   "metadata": {},
   "outputs": [
    {
     "name": "stdout",
     "output_type": "stream",
     "text": [
      "13344\n",
      "\n"
     ]
    }
   ],
   "source": [
    "text = str(pytesseract.image_to_string(contract_review_image,config='--psm 6'))\n",
    "print(text)"
   ]
  },
  {
   "cell_type": "code",
   "execution_count": 20,
   "metadata": {},
   "outputs": [
    {
     "name": "stdout",
     "output_type": "stream",
     "text": [
      "Sales Order\n",
      "\n"
     ]
    }
   ],
   "source": [
    "text1 = str(pytesseract.image_to_string(sales_order_image,config='--psm 6'))\n",
    "print(text1)"
   ]
  },
  {
   "cell_type": "code",
   "execution_count": 26,
   "metadata": {},
   "outputs": [],
   "source": [
    "x,y = text1.split()"
   ]
  },
  {
   "cell_type": "markdown",
   "metadata": {},
   "source": [
    "## Check if PDF is Sales Order"
   ]
  },
  {
   "cell_type": "code",
   "execution_count": 28,
   "metadata": {},
   "outputs": [
    {
     "data": {
      "text/plain": [
       "True"
      ]
     },
     "execution_count": 28,
     "metadata": {},
     "output_type": "execute_result"
    }
   ],
   "source": [
    "x == 'Sales'"
   ]
  },
  {
   "cell_type": "markdown",
   "metadata": {},
   "source": [
    "## Create a list of PDF to Iterate  "
   ]
  },
  {
   "cell_type": "code",
   "execution_count": 15,
   "metadata": {},
   "outputs": [],
   "source": [
    "import glob\n",
    "\n",
    "iter_pdfs = glob.glob('../2021 ADOBE PDFS/*.pdf')\n"
   ]
  },
  {
   "cell_type": "code",
   "execution_count": 16,
   "metadata": {},
   "outputs": [
    {
     "data": {
      "text/plain": [
       "'13344 - signed'"
      ]
     },
     "execution_count": 16,
     "metadata": {},
     "output_type": "execute_result"
    }
   ],
   "source": [
    "re.search(r'(?<=\\\\).*(?=.pdf)',iter_pdfs[0]).group()\n"
   ]
  },
  {
   "cell_type": "code",
   "execution_count": 45,
   "metadata": {},
   "outputs": [
    {
     "name": "stdout",
     "output_type": "stream",
     "text": [
      "../2021 ADOBE PDFS\\13344 - signed.pdf\n",
      "../2021 ADOBE PDFS\\13346 - signed.pdf\n",
      "../2021 ADOBE PDFS\\13347 - signed.pdf\n",
      "../2021 ADOBE PDFS\\13349 - signed.pdf\n",
      "../2021 ADOBE PDFS\\13350 - signed.pdf\n",
      "../2021 ADOBE PDFS\\13352 - signed.pdf\n",
      "../2021 ADOBE PDFS\\13353 - signed.pdf\n",
      "../2021 ADOBE PDFS\\13355 - signed.pdf\n",
      "../2021 ADOBE PDFS\\13404-signed.pdf\n",
      "../2021 ADOBE PDFS\\13447-signed.pdf\n",
      "../2021 ADOBE PDFS\\PO MP00324632 SO 13508.pdf\n",
      "../2021 ADOBE PDFS\\SO 13045- signed.pdf\n",
      "../2021 ADOBE PDFS\\SO 13104 CO5 - signed.pdf\n",
      "../2021 ADOBE PDFS\\SO 13105 lines 21-24 - signed.pdf\n",
      "../2021 ADOBE PDFS\\SO 13111 Line 11-12 - signed.pdf\n",
      "../2021 ADOBE PDFS\\SO 13114 CO 4 new P_Ns - signed.pdf\n",
      "../2021 ADOBE PDFS\\SO 13115 CO 3 - signed.pdf\n",
      "../2021 ADOBE PDFS\\SO 13121 lines 11-12 - signed.pdf\n",
      "../2021 ADOBE PDFS\\SO 13213 Line 120 - signed.pdf\n",
      "../2021 ADOBE PDFS\\SO 13314 Lines 7-8, 11-12 - signed.pdf\n",
      "../2021 ADOBE PDFS\\SO 13335 - signed.pdf\n",
      "../2021 ADOBE PDFS\\SO 13336 - signed.pdf\n",
      "../2021 ADOBE PDFS\\SO 13337 - signed.pdf\n",
      "../2021 ADOBE PDFS\\SO 13338 - signed.pdf\n",
      "../2021 ADOBE PDFS\\SO 13339 - signed.pdf\n",
      "../2021 ADOBE PDFS\\SO 13340 - signed.pdf\n",
      "../2021 ADOBE PDFS\\SO 13341 - signed.pdf\n",
      "../2021 ADOBE PDFS\\SO 13345-Signed.pdf\n",
      "../2021 ADOBE PDFS\\SO 13348 - signed.pdf\n",
      "../2021 ADOBE PDFS\\SO 13351 - signed.pdf\n",
      "../2021 ADOBE PDFS\\SO 13354 - signed.pdf\n",
      "../2021 ADOBE PDFS\\SO 13356 - signed.pdf\n",
      "../2021 ADOBE PDFS\\SO 13357 - signed.pdf\n",
      "../2021 ADOBE PDFS\\SO 13358 - signed.pdf\n",
      "../2021 ADOBE PDFS\\SO 13359 - signed.pdf\n",
      "../2021 ADOBE PDFS\\SO 13360 - signed.pdf\n",
      "../2021 ADOBE PDFS\\SO 13361 - signed.pdf\n",
      "../2021 ADOBE PDFS\\SO 13362 - signed.pdf\n",
      "../2021 ADOBE PDFS\\SO 13363 - signed.pdf\n",
      "../2021 ADOBE PDFS\\SO 13364 - signed.pdf\n",
      "../2021 ADOBE PDFS\\SO 13365 - signed.pdf\n",
      "../2021 ADOBE PDFS\\SO 13366 - signed.pdf\n",
      "../2021 ADOBE PDFS\\SO 13367 - signed.pdf\n",
      "../2021 ADOBE PDFS\\SO 13368 - signed.pdf\n",
      "../2021 ADOBE PDFS\\SO 13369 - signed.pdf\n",
      "../2021 ADOBE PDFS\\SO 13370 - signed.pdf\n",
      "../2021 ADOBE PDFS\\SO 13371 - signed.pdf\n",
      "../2021 ADOBE PDFS\\SO 13372-signed.pdf\n",
      "../2021 ADOBE PDFS\\SO 13373 - signed.pdf\n",
      "../2021 ADOBE PDFS\\SO 13374 - signed.pdf\n",
      "../2021 ADOBE PDFS\\SO 13375 - signed.pdf\n",
      "../2021 ADOBE PDFS\\SO 13376 - signed.pdf\n",
      "../2021 ADOBE PDFS\\SO 13377 - signed.pdf\n",
      "../2021 ADOBE PDFS\\SO 13378 - signed.pdf\n",
      "../2021 ADOBE PDFS\\SO 13379 - signed.pdf\n",
      "../2021 ADOBE PDFS\\SO 13380 - signed.pdf\n",
      "../2021 ADOBE PDFS\\SO 13381 - signed.pdf\n",
      "../2021 ADOBE PDFS\\SO 13382 - signed.pdf\n",
      "../2021 ADOBE PDFS\\SO 13383 - signed.pdf\n",
      "../2021 ADOBE PDFS\\SO 13384 - signed.pdf\n",
      "../2021 ADOBE PDFS\\SO 13385-signed.pdf\n",
      "../2021 ADOBE PDFS\\SO 13386 - signed.pdf\n",
      "../2021 ADOBE PDFS\\SO 13387 - signed.pdf\n",
      "../2021 ADOBE PDFS\\SO 13388 - signed.pdf\n",
      "../2021 ADOBE PDFS\\SO 13389 - signed.pdf\n",
      "../2021 ADOBE PDFS\\SO 13390 - signed.pdf\n",
      "../2021 ADOBE PDFS\\SO 13391 - signed.pdf\n",
      "../2021 ADOBE PDFS\\SO 13392-signed.pdf\n",
      "../2021 ADOBE PDFS\\SO 13393 - signed.pdf\n",
      "../2021 ADOBE PDFS\\SO 13394 - signed.pdf\n",
      "../2021 ADOBE PDFS\\SO 13395 - signed.pdf\n",
      "../2021 ADOBE PDFS\\SO 13396 - signed.pdf\n",
      "../2021 ADOBE PDFS\\SO 13397 - signed.pdf\n",
      "../2021 ADOBE PDFS\\SO 13398 - signed.pdf\n",
      "../2021 ADOBE PDFS\\SO 13399 - signed.pdf\n",
      "../2021 ADOBE PDFS\\SO 13400 - signed.pdf\n",
      "../2021 ADOBE PDFS\\SO 13401 - signed.pdf\n",
      "../2021 ADOBE PDFS\\SO 13402-signed.pdf\n",
      "../2021 ADOBE PDFS\\SO 13403 - signed.pdf\n",
      "../2021 ADOBE PDFS\\SO 13406 - signed.pdf\n",
      "../2021 ADOBE PDFS\\SO 13407 - signed.pdf\n",
      "../2021 ADOBE PDFS\\SO 13408 - signed.pdf\n",
      "../2021 ADOBE PDFS\\SO 13409 - signed.pdf\n",
      "../2021 ADOBE PDFS\\SO 13410 - signed.pdf\n",
      "../2021 ADOBE PDFS\\SO 13411 - signed.pdf\n",
      "../2021 ADOBE PDFS\\SO 13412 - signed.pdf\n",
      "../2021 ADOBE PDFS\\SO 13413 - signed.pdf\n",
      "../2021 ADOBE PDFS\\SO 13414 - signed.pdf\n",
      "../2021 ADOBE PDFS\\SO 13415 - signed.pdf\n",
      "../2021 ADOBE PDFS\\SO 13416 - signed.pdf\n",
      "../2021 ADOBE PDFS\\SO 13417 - signed.pdf\n",
      "../2021 ADOBE PDFS\\SO 13419 - signed.pdf\n",
      "../2021 ADOBE PDFS\\SO 13420 - signed.pdf\n",
      "../2021 ADOBE PDFS\\SO 13421 - signed.pdf\n",
      "../2021 ADOBE PDFS\\SO 13422 - signed.pdf\n",
      "../2021 ADOBE PDFS\\SO 13423 - signed.pdf\n",
      "../2021 ADOBE PDFS\\SO 13424 - signed.pdf\n",
      "../2021 ADOBE PDFS\\SO 13425 - signed.pdf\n",
      "../2021 ADOBE PDFS\\SO 13426 - signed.pdf\n",
      "../2021 ADOBE PDFS\\SO 13426 lines 6-7 - signed.pdf\n",
      "../2021 ADOBE PDFS\\SO 13427 - signed.pdf\n",
      "../2021 ADOBE PDFS\\SO 13429 - signed.pdf\n",
      "../2021 ADOBE PDFS\\SO 13430 - signed.pdf\n",
      "../2021 ADOBE PDFS\\SO 13431 - signed.pdf\n",
      "../2021 ADOBE PDFS\\SO 13432 - signed.pdf\n",
      "../2021 ADOBE PDFS\\SO 13433 - signed.pdf\n",
      "../2021 ADOBE PDFS\\SO 13434 - signed.pdf\n",
      "../2021 ADOBE PDFS\\SO 13435 - signed.pdf\n",
      "../2021 ADOBE PDFS\\SO 13436 - signed.pdf\n",
      "../2021 ADOBE PDFS\\SO 13437 - signed.pdf\n",
      "../2021 ADOBE PDFS\\SO 13438 - signed.pdf\n",
      "../2021 ADOBE PDFS\\SO 13439 - signed.pdf\n",
      "../2021 ADOBE PDFS\\SO 13440 - signed.pdf\n",
      "../2021 ADOBE PDFS\\SO 13441 - signed.pdf\n",
      "../2021 ADOBE PDFS\\SO 13442 - signed.pdf\n",
      "../2021 ADOBE PDFS\\SO 13443 - signed.pdf\n",
      "../2021 ADOBE PDFS\\SO 13444 - signed.pdf\n",
      "../2021 ADOBE PDFS\\SO 13446 - signed.pdf\n",
      "../2021 ADOBE PDFS\\SO 13448 - signed.pdf\n",
      "../2021 ADOBE PDFS\\SO 13449 - signed.pdf\n",
      "../2021 ADOBE PDFS\\SO 13450 - signed.pdf\n",
      "../2021 ADOBE PDFS\\SO 13451 - signed.pdf\n",
      "../2021 ADOBE PDFS\\SO 13452 - signed.pdf\n",
      "../2021 ADOBE PDFS\\SO 13453 - signed.pdf\n",
      "../2021 ADOBE PDFS\\SO 13454 - signed.pdf\n",
      "../2021 ADOBE PDFS\\SO 13455 - signed.pdf\n",
      "../2021 ADOBE PDFS\\SO 13456 - signed.pdf\n",
      "../2021 ADOBE PDFS\\SO 13457 - signed.pdf\n",
      "../2021 ADOBE PDFS\\SO 13458 - signed.pdf\n",
      "../2021 ADOBE PDFS\\SO 13459 - signed.pdf\n",
      "../2021 ADOBE PDFS\\SO 13460 - signed.pdf\n",
      "../2021 ADOBE PDFS\\SO 13461 - signed.pdf\n",
      "../2021 ADOBE PDFS\\SO 13462 - signed.pdf\n",
      "../2021 ADOBE PDFS\\SO 13463 - signed.pdf\n",
      "../2021 ADOBE PDFS\\SO 13464 - signed.pdf\n",
      "../2021 ADOBE PDFS\\SO 13465 - signed.pdf\n",
      "../2021 ADOBE PDFS\\SO 13466 - signed.pdf\n",
      "../2021 ADOBE PDFS\\SO 13467 - signed.pdf\n",
      "../2021 ADOBE PDFS\\SO 13468 - signed.pdf\n",
      "../2021 ADOBE PDFS\\SO 13469 - signed.pdf\n",
      "../2021 ADOBE PDFS\\SO 13470 - signed.pdf\n",
      "../2021 ADOBE PDFS\\SO 13471 - signed.pdf\n",
      "../2021 ADOBE PDFS\\SO 13472 - signed.pdf\n",
      "../2021 ADOBE PDFS\\SO 13473 - signed.pdf\n",
      "../2021 ADOBE PDFS\\SO 13474 - signed.pdf\n",
      "../2021 ADOBE PDFS\\SO 13475 - signed.pdf\n",
      "../2021 ADOBE PDFS\\SO 13476-SIGNED.pdf\n",
      "../2021 ADOBE PDFS\\SO 13477 - signed.pdf\n",
      "../2021 ADOBE PDFS\\SO 13478 - signed.pdf\n",
      "../2021 ADOBE PDFS\\SO 13479 - signed.pdf\n",
      "../2021 ADOBE PDFS\\SO 13480 - signed.pdf\n",
      "../2021 ADOBE PDFS\\SO 13481 - signed.pdf\n",
      "../2021 ADOBE PDFS\\SO 13482 - signed.pdf\n",
      "../2021 ADOBE PDFS\\SO 13483 - signed.pdf\n",
      "../2021 ADOBE PDFS\\SO 13484 - signed.pdf\n",
      "../2021 ADOBE PDFS\\SO 13485 - signed.pdf\n",
      "../2021 ADOBE PDFS\\SO 13486 - signed.pdf\n",
      "../2021 ADOBE PDFS\\SO 13487 - signed.pdf\n",
      "../2021 ADOBE PDFS\\SO 13489 - signed.pdf\n",
      "../2021 ADOBE PDFS\\SO 13490 - signed.pdf\n",
      "../2021 ADOBE PDFS\\SO 13491 - signed.pdf\n",
      "../2021 ADOBE PDFS\\SO 13492 - signed.pdf\n",
      "../2021 ADOBE PDFS\\SO 13494 - signed.pdf\n",
      "../2021 ADOBE PDFS\\SO 13495 - signed.pdf\n",
      "../2021 ADOBE PDFS\\SO 13496 - signed.pdf\n",
      "../2021 ADOBE PDFS\\SO 13497 - signed.pdf\n",
      "../2021 ADOBE PDFS\\SO 13498 - signed.pdf\n",
      "../2021 ADOBE PDFS\\SO 13504 - signed.pdf\n",
      "../2021 ADOBE PDFS\\SO 13505 - signed.pdf\n",
      "../2021 ADOBE PDFS\\SO 13506 - signed.pdf\n",
      "../2021 ADOBE PDFS\\SO 13507 - signed.pdf\n",
      "../2021 ADOBE PDFS\\SO 13509 - signed.pdf\n",
      "../2021 ADOBE PDFS\\SO 13510 - signed.pdf\n",
      "../2021 ADOBE PDFS\\SO 13511 - signed.pdf\n",
      "../2021 ADOBE PDFS\\SO 13512 - signed.pdf\n",
      "../2021 ADOBE PDFS\\SO 13513 - signed.pdf\n",
      "../2021 ADOBE PDFS\\SO 13514 - signed.pdf\n",
      "../2021 ADOBE PDFS\\SO 13515 - signed.pdf\n",
      "../2021 ADOBE PDFS\\SO 13516 - signed.pdf\n",
      "../2021 ADOBE PDFS\\SO 13517 - signed.pdf\n",
      "../2021 ADOBE PDFS\\SO 13517 CO 1 - signed.pdf\n",
      "../2021 ADOBE PDFS\\SO 13518 - signed.pdf\n",
      "../2021 ADOBE PDFS\\SO 13519 - signed.pdf\n",
      "../2021 ADOBE PDFS\\SO 13520 - signed.pdf\n",
      "../2021 ADOBE PDFS\\SO 13521 - signed.pdf\n",
      "../2021 ADOBE PDFS\\SO 13522 - signed.pdf\n",
      "../2021 ADOBE PDFS\\SO 13523 - signed.pdf\n",
      "../2021 ADOBE PDFS\\SO 13524 - signed.pdf\n",
      "../2021 ADOBE PDFS\\SO 13525 - signed.pdf\n",
      "../2021 ADOBE PDFS\\SO 13526 - signed.pdf\n",
      "../2021 ADOBE PDFS\\SO 13527 - signed.pdf\n",
      "../2021 ADOBE PDFS\\SO 13528 - signed.pdf\n",
      "../2021 ADOBE PDFS\\SO 13529 - signed.pdf\n",
      "../2021 ADOBE PDFS\\SO 13530 - signed.pdf\n",
      "../2021 ADOBE PDFS\\SO 13533 - signed.pdf\n",
      "../2021 ADOBE PDFS\\SO 13534 - signed.pdf\n",
      "../2021 ADOBE PDFS\\SO 13535 - signed.pdf\n",
      "../2021 ADOBE PDFS\\SO 13536 - signed.pdf\n",
      "../2021 ADOBE PDFS\\SO 13537 - signed.pdf\n",
      "../2021 ADOBE PDFS\\SO 13538 - signed.pdf\n",
      "../2021 ADOBE PDFS\\SO 13539 - signed.pdf\n",
      "../2021 ADOBE PDFS\\SO 13540 - signed.pdf\n",
      "../2021 ADOBE PDFS\\SO 13541 - signed.pdf\n",
      "../2021 ADOBE PDFS\\SO 13549 - signed.pdf\n",
      "../2021 ADOBE PDFS\\SO 13551 - signed.pdf\n",
      "../2021 ADOBE PDFS\\SO 13552 - signed.pdf\n",
      "../2021 ADOBE PDFS\\SO 13553 - signed.pdf\n",
      "../2021 ADOBE PDFS\\SO 13554 - signed.pdf\n",
      "../2021 ADOBE PDFS\\SO 13555 - signed.pdf\n",
      "../2021 ADOBE PDFS\\SO 13556 - signed.pdf\n",
      "../2021 ADOBE PDFS\\SO 13557 - signed.pdf\n",
      "../2021 ADOBE PDFS\\SO 13558 - signed.pdf\n",
      "../2021 ADOBE PDFS\\SO 13559 - signed.pdf\n",
      "../2021 ADOBE PDFS\\SO 13561  CO 1 - signed.pdf\n",
      "../2021 ADOBE PDFS\\SO 13562  CO 1 - signed.pdf\n",
      "../2021 ADOBE PDFS\\SO 13563 - signed.pdf\n",
      "../2021 ADOBE PDFS\\SO 13564 - signed.pdf\n",
      "../2021 ADOBE PDFS\\SO 13565 - signed.pdf\n",
      "../2021 ADOBE PDFS\\SO 13566 - signed.pdf\n",
      "../2021 ADOBE PDFS\\SO 13567-signed.pdf\n",
      "../2021 ADOBE PDFS\\SO 13568-signed.pdf\n",
      "../2021 ADOBE PDFS\\SO 13569 - signed.pdf\n",
      "../2021 ADOBE PDFS\\SO 13570 - signed.pdf\n",
      "../2021 ADOBE PDFS\\SO 13571-signed.pdf\n",
      "../2021 ADOBE PDFS\\SO 13572 - signed.pdf\n",
      "../2021 ADOBE PDFS\\SO 13573 - signed.pdf\n",
      "../2021 ADOBE PDFS\\SO 13574 - signed.pdf\n",
      "../2021 ADOBE PDFS\\SO 13575 - signed.pdf\n",
      "../2021 ADOBE PDFS\\SO 13576 - signed.pdf\n",
      "../2021 ADOBE PDFS\\SO 13577 - signed.pdf\n",
      "../2021 ADOBE PDFS\\SO 13578 - signed.pdf\n",
      "../2021 ADOBE PDFS\\SO 13579 - signed.pdf\n",
      "../2021 ADOBE PDFS\\SO 13580 - signed.pdf\n",
      "../2021 ADOBE PDFS\\SO 13581 - signed.pdf\n",
      "../2021 ADOBE PDFS\\SO 13582 - signed.pdf\n",
      "../2021 ADOBE PDFS\\SO 13583 - signed.pdf\n",
      "../2021 ADOBE PDFS\\SO 13584 - signed.pdf\n",
      "../2021 ADOBE PDFS\\SO 13585.pdf\n",
      "../2021 ADOBE PDFS\\SO 13586 - signed.pdf\n",
      "../2021 ADOBE PDFS\\SO 13587 - signed.pdf\n",
      "../2021 ADOBE PDFS\\SO 13588 - signed.pdf\n",
      "../2021 ADOBE PDFS\\SO 13589 - signed.pdf\n",
      "../2021 ADOBE PDFS\\SO 13590 - signed.pdf\n",
      "../2021 ADOBE PDFS\\SO 13591 - signed.pdf\n",
      "../2021 ADOBE PDFS\\SO 13592 - signed.pdf\n",
      "../2021 ADOBE PDFS\\SO 13593 - signed.pdf\n",
      "../2021 ADOBE PDFS\\SO 13594 - signed.pdf\n",
      "../2021 ADOBE PDFS\\SO 13595 - signed.pdf\n",
      "../2021 ADOBE PDFS\\SO 13596 - signed.pdf\n",
      "../2021 ADOBE PDFS\\SO 13597 - signed.pdf\n",
      "../2021 ADOBE PDFS\\SO 13598 - signed.pdf\n",
      "../2021 ADOBE PDFS\\SO 13599 - signed.pdf\n",
      "../2021 ADOBE PDFS\\SO 13600 - signed.pdf\n",
      "../2021 ADOBE PDFS\\SO 13601 - signed.pdf\n",
      "../2021 ADOBE PDFS\\SO 13602 - signed.pdf\n",
      "../2021 ADOBE PDFS\\SO 13603 - signed.pdf\n",
      "../2021 ADOBE PDFS\\SO 13604 - signed.pdf\n",
      "../2021 ADOBE PDFS\\SO 13605 - signed.pdf\n",
      "../2021 ADOBE PDFS\\SO 13606 - signed.pdf\n",
      "../2021 ADOBE PDFS\\SO 13607 - signed.pdf\n",
      "../2021 ADOBE PDFS\\SO 13608 - signed.pdf\n",
      "../2021 ADOBE PDFS\\SO 13609 - signed.pdf\n",
      "../2021 ADOBE PDFS\\SO 13610 - signed.pdf\n",
      "../2021 ADOBE PDFS\\SO 13611 - signed.pdf\n",
      "../2021 ADOBE PDFS\\SO 13612 - signed.pdf\n",
      "../2021 ADOBE PDFS\\SO 13613 - signed.pdf\n",
      "../2021 ADOBE PDFS\\SO 13614 - signed.pdf\n",
      "../2021 ADOBE PDFS\\SO 13615 - signed.pdf\n",
      "../2021 ADOBE PDFS\\SO 13616 - signed.pdf\n",
      "../2021 ADOBE PDFS\\SO 13617 - signed.pdf\n",
      "../2021 ADOBE PDFS\\SO 13618 - signed.pdf\n",
      "../2021 ADOBE PDFS\\SO 13619 - signed.pdf\n",
      "../2021 ADOBE PDFS\\SO 13620 - signed.pdf\n",
      "../2021 ADOBE PDFS\\SO 13621 - signed.pdf\n",
      "../2021 ADOBE PDFS\\SO 13622 - signed.pdf\n",
      "../2021 ADOBE PDFS\\SO 13623 - signed.pdf\n",
      "../2021 ADOBE PDFS\\SO 13624 - signed.pdf\n",
      "../2021 ADOBE PDFS\\SO 13625 - signed.pdf\n",
      "../2021 ADOBE PDFS\\SO 13626 - signed.pdf\n",
      "../2021 ADOBE PDFS\\SO 13627 - signed.pdf\n",
      "../2021 ADOBE PDFS\\SO 13628 - signed.pdf\n",
      "../2021 ADOBE PDFS\\SO 13629 - signed.pdf\n",
      "../2021 ADOBE PDFS\\SO 13630 - signed.pdf\n",
      "../2021 ADOBE PDFS\\SO 13631 - signed.pdf\n",
      "../2021 ADOBE PDFS\\SO 13632 - signed.pdf\n",
      "../2021 ADOBE PDFS\\SO 13633 - signed.pdf\n",
      "../2021 ADOBE PDFS\\SO 13634 - signed.pdf\n",
      "../2021 ADOBE PDFS\\SO 13635 - signed.pdf\n",
      "../2021 ADOBE PDFS\\SO 13636 - signed.pdf\n",
      "../2021 ADOBE PDFS\\SO 13637 - signed.pdf\n",
      "../2021 ADOBE PDFS\\SO 13638 - signed.pdf\n",
      "../2021 ADOBE PDFS\\SO 13639 - signed.pdf\n",
      "../2021 ADOBE PDFS\\SO 13640 - signed.pdf\n",
      "../2021 ADOBE PDFS\\SO 13641 - signed.pdf\n",
      "../2021 ADOBE PDFS\\SO 13642 - signed.pdf\n",
      "../2021 ADOBE PDFS\\SO 13643 - signed.pdf\n",
      "../2021 ADOBE PDFS\\SO 13644 - signed.pdf\n",
      "../2021 ADOBE PDFS\\SO 13645 - signed.pdf\n",
      "../2021 ADOBE PDFS\\SO 13646 - signed.pdf\n",
      "../2021 ADOBE PDFS\\SO 13647 - signed.pdf\n",
      "../2021 ADOBE PDFS\\SO 13648 - signed.pdf\n",
      "../2021 ADOBE PDFS\\SO 13649 - signed.pdf\n",
      "../2021 ADOBE PDFS\\SO 13650 - signed.pdf\n",
      "../2021 ADOBE PDFS\\SO 13651 - signed.pdf\n",
      "../2021 ADOBE PDFS\\SO 13652 - signed.pdf\n",
      "../2021 ADOBE PDFS\\SO 13653 - signed.pdf\n",
      "../2021 ADOBE PDFS\\SO 13654 - signed.pdf\n",
      "../2021 ADOBE PDFS\\SO 13655 - signed.pdf\n",
      "../2021 ADOBE PDFS\\SO 13656 - signed.pdf\n",
      "../2021 ADOBE PDFS\\SO 13657 - signed.pdf\n",
      "../2021 ADOBE PDFS\\SO 13658 - signed.pdf\n",
      "../2021 ADOBE PDFS\\SO 13659 - signed.pdf\n",
      "../2021 ADOBE PDFS\\SO 13660 - signed.pdf\n",
      "../2021 ADOBE PDFS\\SO 13661 - signed.pdf\n"
     ]
    }
   ],
   "source": [
    "for i in iter_pdfs:\n",
    "    print(i)"
   ]
  },
  {
   "cell_type": "code",
   "execution_count": 17,
   "metadata": {},
   "outputs": [],
   "source": [
    "for i in iter_pdfs:\n",
    "    filename = re.search(r'(?<=\\\\).*(?=.pdf)',i).group()\n",
    "    doc = fitz.open(i)\n",
    "    j=0\n",
    "    for page in doc:\n",
    "        pix = page.get_pixmap(dpi=200)\n",
    "        pix.save( '.\\\\PDF_IMAGE\\\\' + filename + 'image-page-'+ str(j) + '-' + '.png')\n",
    "        j+=1\n",
    "        \n",
    "    "
   ]
  },
  {
   "cell_type": "code",
   "execution_count": 19,
   "metadata": {},
   "outputs": [],
   "source": [
    "iter_pngs = glob.glob('../MRM-Contract-Review/PDF_IMAGE\\*.png')"
   ]
  },
  {
   "cell_type": "code",
   "execution_count": 20,
   "metadata": {},
   "outputs": [
    {
     "data": {
      "text/plain": [
       "['../MRM-Contract-Review\\\\new-out.png',\n",
       " '../MRM-Contract-Review\\\\TESSERACT PSM MODES.png']"
      ]
     },
     "execution_count": 20,
     "metadata": {},
     "output_type": "execute_result"
    }
   ],
   "source": [
    "iter_pngs"
   ]
  },
  {
   "cell_type": "code",
   "execution_count": null,
   "metadata": {},
   "outputs": [],
   "source": []
  }
 ],
 "metadata": {
  "interpreter": {
   "hash": "3d4d1dcd82f2b441c6a8d02fa21b0d9d24df611f0816b00298884217c941a9f6"
  },
  "kernelspec": {
   "display_name": "Python 3.9.6 ('report_devops')",
   "language": "python",
   "name": "python3"
  },
  "language_info": {
   "codemirror_mode": {
    "name": "ipython",
    "version": 3
   },
   "file_extension": ".py",
   "mimetype": "text/x-python",
   "name": "python",
   "nbconvert_exporter": "python",
   "pygments_lexer": "ipython3",
   "version": "3.9.6"
  },
  "orig_nbformat": 4
 },
 "nbformat": 4,
 "nbformat_minor": 2
}
