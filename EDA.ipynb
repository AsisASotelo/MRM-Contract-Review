{
 "cells": [
  {
   "cell_type": "markdown",
   "metadata": {},
   "source": [
    "# Exploratory Data Analysis of PDFs\n"
   ]
  },
  {
   "cell_type": "code",
   "execution_count": 3,
   "metadata": {},
   "outputs": [
    {
     "name": "stdout",
     "output_type": "stream",
     "text": [
      "\n",
      "PyMuPDF 1.19.6: Python bindings for the MuPDF 1.19.0 library.\n",
      "Version date: 2022-03-03 00:00:01.\n",
      "Built for Python 3.9 on win32 (64-bit).\n",
      "\n"
     ]
    }
   ],
   "source": [
    "import fitz \n",
    "print(fitz.__doc__)"
   ]
  },
  {
   "cell_type": "code",
   "execution_count": 4,
   "metadata": {},
   "outputs": [
    {
     "name": "stdout",
     "output_type": "stream",
     "text": [
      "5\n"
     ]
    }
   ],
   "source": [
    "doc = fitz.open('13344signed.pdf')\n",
    "print(doc.page_count)\n"
   ]
  },
  {
   "cell_type": "markdown",
   "metadata": {},
   "source": [
    "## Load the Page and Turn Into Image"
   ]
  },
  {
   "cell_type": "code",
   "execution_count": 5,
   "metadata": {},
   "outputs": [],
   "source": [
    "page = doc[0]\n"
   ]
  },
  {
   "cell_type": "code",
   "execution_count": 6,
   "metadata": {},
   "outputs": [],
   "source": [
    "pix = page.get_pixmap(dpi=200)\n",
    "pix.save('new-out.png')"
   ]
  },
  {
   "cell_type": "markdown",
   "metadata": {},
   "source": [
    "## Begin OpenCv Analyze"
   ]
  },
  {
   "cell_type": "code",
   "execution_count": 7,
   "metadata": {},
   "outputs": [
    {
     "name": "stdout",
     "output_type": "stream",
     "text": [
      "4.5.5\n"
     ]
    }
   ],
   "source": [
    "import cv2 as cv\n",
    "print(cv.__version__)"
   ]
  },
  {
   "cell_type": "code",
   "execution_count": 8,
   "metadata": {},
   "outputs": [],
   "source": [
    "img = cv.imread('new-out.png')"
   ]
  },
  {
   "cell_type": "code",
   "execution_count": null,
   "metadata": {},
   "outputs": [],
   "source": [
    "rect_dict = {\n",
    "    'Sect1Risk1':[(513,494),(546,529)],\n",
    "    'Sect1Risk2':[(694,496),(719,529)],\n",
    "    'Sect1Risk3':[(916,496),(949,529)],\n",
    "    'Sect1Risk4':[(1146,496),(1177,531)],\n",
    "    'Sect1Risk5':[(1308,492),(1338,522)],\n",
    "    'Sect2Risk1':[(513,974),(546,1007)],\n",
    "    'Sect2Risk2':[(691,974),(719,1005)],\n",
    "    'Sect2Risk3':[(919,974),(947,1009)],\n",
    "    'Sect2Risk4':[(1153,972),(1184,1007)],\n",
    "    'Sect2Risk5':[(1303,972),s(1334,1007)],\n",
    "    'Sect3Risk1':[(520,1454),(548,1490)],\n",
    "    'Sect3Risk2':[(694,1457),(722,1490)],\n",
    "    'Sect3Risk3':[(919,1457),(949,1487)],\n",
    "    'Sect3Risk4':[(1148,1457),(1179,1487)],\n",
    "    'Sect3Risk5':[(1303,1454),(1334,1490)],\n",
    "    'Sect4Risk1':[(511,1792),(536,1825)],\n",
    "    'Sect4Risk2':[(691,1792),(724,1820)],\n",
    "    'Sect4Risk3':[(916,1789),(947,1820)],\n",
    "    'Sect4Risk4':[(1146,1792),(1177,1822)],\n",
    "    'Sect4Risk5':[(1306,1792),(1336,1822)],\n",
    "    'Sect5Risk1':[(520,2035),(551,2066)],\n",
    "    'Sect5Risk2':[(698,2033),(726,2066)],\n",
    "    'Sect5Risk3':[(909,2031),(940,2061)],\n",
    "    'Sect5Risk4':[(1146,2033),(1177,2064)],\n",
    "    'Sect5Risk5':[(1316,2034),(1346,2067s)],\n",
    "\n",
    "}"
   ]
  },
  {
   "cell_type": "code",
   "execution_count": 9,
   "metadata": {},
   "outputs": [],
   "source": [
    "cv.imshow('Display Window',img)\n",
    "k = cv.waitKey(0)\n",
    "cv.destroyAllWindows()"
   ]
  },
  {
   "cell_type": "code",
   "execution_count": null,
   "metadata": {},
   "outputs": [],
   "source": []
  }
 ],
 "metadata": {
  "interpreter": {
   "hash": "3d4d1dcd82f2b441c6a8d02fa21b0d9d24df611f0816b00298884217c941a9f6"
  },
  "kernelspec": {
   "display_name": "Python 3.9.6 ('report_devops')",
   "language": "python",
   "name": "python3"
  },
  "language_info": {
   "codemirror_mode": {
    "name": "ipython",
    "version": 3
   },
   "file_extension": ".py",
   "mimetype": "text/x-python",
   "name": "python",
   "nbconvert_exporter": "python",
   "pygments_lexer": "ipython3",
   "version": "3.9.6"
  },
  "orig_nbformat": 4
 },
 "nbformat": 4,
 "nbformat_minor": 2
}
