{
 "cells": [
  {
   "cell_type": "markdown",
   "metadata": {},
   "source": [
    "# Exploratory Data Analysis of PDFs\n"
   ]
  },
  {
   "cell_type": "code",
   "execution_count": 55,
   "metadata": {},
   "outputs": [
    {
     "name": "stdout",
     "output_type": "stream",
     "text": [
      "\n",
      "PyMuPDF 1.19.6: Python bindings for the MuPDF 1.19.0 library.\n",
      "Version date: 2022-03-03 00:00:01.\n",
      "Built for Python 3.9 on win32 (64-bit).\n",
      "\n"
     ]
    }
   ],
   "source": [
    "import fitz \n",
    "import re\n",
    "from matplotlib import pyplot as plt\n",
    "print(fitz.__doc__)"
   ]
  },
  {
   "cell_type": "code",
   "execution_count": 90,
   "metadata": {},
   "outputs": [
    {
     "name": "stdout",
     "output_type": "stream",
     "text": [
      "18\n"
     ]
    }
   ],
   "source": [
    "doc = fitz.open('13347 - signed.pdf')\n",
    "print(doc.page_count)\n"
   ]
  },
  {
   "cell_type": "code",
   "execution_count": 3,
   "metadata": {},
   "outputs": [
    {
     "data": {
      "text/plain": [
       "{'format': 'PDF 1.7',\n",
       " 'title': 'Master Research & Mfg.',\n",
       " 'author': 'Bob Barker',\n",
       " 'subject': '',\n",
       " 'keywords': '',\n",
       " 'creator': 'Microsoft® Word for Microsoft 365',\n",
       " 'producer': 'Adobe Sign',\n",
       " 'creationDate': \"D:20200930065642-07'00'\",\n",
       " 'modDate': \"D:20210115092353-08'00'\",\n",
       " 'trapped': '',\n",
       " 'encryption': 'Standard V4 R4 128-bit AES'}"
      ]
     },
     "execution_count": 3,
     "metadata": {},
     "output_type": "execute_result"
    }
   ],
   "source": [
    "doc.metadata"
   ]
  },
  {
   "cell_type": "markdown",
   "metadata": {},
   "source": [
    "## Load the Page and Turn Into Image"
   ]
  },
  {
   "cell_type": "code",
   "execution_count": 4,
   "metadata": {},
   "outputs": [],
   "source": [
    "page = doc[0]\n"
   ]
  },
  {
   "cell_type": "code",
   "execution_count": 5,
   "metadata": {},
   "outputs": [],
   "source": [
    "pix = page.get_pixmap(dpi=200)\n",
    "pix.save('new-out.png')"
   ]
  },
  {
   "cell_type": "code",
   "execution_count": 91,
   "metadata": {},
   "outputs": [],
   "source": [
    "i=0\n",
    "for page in doc:\n",
    "    pix = page.get_pixmap(dpi=200)\n",
    "    pix.save( str(i) + 'new-out.png')\n",
    "    i+=1\n"
   ]
  },
  {
   "cell_type": "markdown",
   "metadata": {},
   "source": [
    "## Begin OpenCv Analyze"
   ]
  },
  {
   "cell_type": "code",
   "execution_count": 7,
   "metadata": {},
   "outputs": [],
   "source": [
    "import pytesseract\n",
    "pytesseract.pytesseract.tesseract_cmd = r'C:\\Users\\asis.sotelo\\AppData\\Local\\Programs\\Tesseract-OCR\\\\tesseract.exe'"
   ]
  },
  {
   "cell_type": "code",
   "execution_count": 8,
   "metadata": {},
   "outputs": [
    {
     "name": "stdout",
     "output_type": "stream",
     "text": [
      "4.5.5\n"
     ]
    }
   ],
   "source": [
    "import cv2 as cv\n",
    "print(cv.__version__)"
   ]
  },
  {
   "cell_type": "code",
   "execution_count": 97,
   "metadata": {},
   "outputs": [],
   "source": [
    "img = cv.imread(r'2new-out.png')"
   ]
  },
  {
   "cell_type": "code",
   "execution_count": 10,
   "metadata": {},
   "outputs": [],
   "source": [
    "rect_dict = {\n",
    "    'Sect1Risk1':[(520,501),(541,522)],\n",
    "    'Sect1Risk2':[(697,504),(720,524)],\n",
    "    'Sect1Risk3':[(922,505),(945,525)],\n",
    "    'Sect1Risk4':[(1151,503),(1174,525)],\n",
    "    'Sect1Risk5':[(1312,497),(1335,520)],\n",
    "    'Sect2Risk1':[(518,981),(542,1005)],\n",
    "    'Sect2Risk2':[(696,979),(719,1002)],\n",
    "    'Sect2Risk3':[(921,981),(944,1005)],\n",
    "    'Sect2Risk4':[(1159,979),(1182,1002)],\n",
    "    'Sect2Risk5':[(1306,981),(1329,1004)],\n",
    "    'Sect3Risk1':[(522,1461),(545,1484)],\n",
    "    'Sect3Risk2':[(697,1463),(720,1484)],\n",
    "    'Sect3Risk3':[(922,1463),(945,1484)],\n",
    "    'Sect3Risk4':[(1154,1463),(1177,1484)],\n",
    "    'Sect3Risk5':[(1310,1461),(1333,1484)],\n",
    "    'Sect4Risk1':[(514,1799),(537,1819)],\n",
    "    'Sect4Risk2':[(697,1797),(720,1819)],\n",
    "    'Sect4Risk3':[(920,1795),(943,1818)],\n",
    "    'Sect4Risk4':[(1149,1797),(1172,1819)],\n",
    "    'Sect4Risk5':[(1312,1797),(1335,1819)],\n",
    "    'Sect5Risk1':[(526,2041),(549,2059)],\n",
    "    'Sect5Risk2':[(701,2038),(724,2059)],\n",
    "    'Sect5Risk3':[(914,2036),(937,2059)],\n",
    "    'Sect5Risk4':[(1152,2037),(1175,2059)],\n",
    "    'Sect5Risk5':[(1318,2036),(1341,2059)],\n",
    "    'ContractReviewNumber':[(855,107),(1172,135)],\n",
    "    'SalesOrderText':[(522,98),(813,147)],\n",
    "    'PartText':[(213,346),(710,377)]\n",
    "\n",
    "}"
   ]
  },
  {
   "cell_type": "code",
   "execution_count": 101,
   "metadata": {},
   "outputs": [],
   "source": [
    "rect_dict_check = {\n",
    "    'Sect1Risk1':[(506,489),(572,529)],\n",
    "    'Sect1Risk2':[(685,491),(751,529)],\n",
    "    'Sect1Risk3':[(907,491),(971,535)],\n",
    "    'Sect1Risk4':[(1136,490),(1204,529)],\n",
    "    'Sect1Risk5':[(1299,491),(1367,529)],\n",
    "\n",
    "    'Sect2Risk1':[(503,975),(572,1010)],\n",
    "    'Sect2Risk2':[(682,975),(752,1010)],\n",
    "    'Sect2Risk3':[(902,975),(971,1010)],\n",
    "    'Sect2Risk4':[(1134,972),(1204,1010)],\n",
    "    'Sect2Risk5':[(1297,972),(1353,1010)],\n",
    "\n",
    "    'Sect3Risk1':[(505,1455),(572,1490)],\n",
    "    'Sect3Risk2':[(682,1454),(752,1490)],\n",
    "    'Sect3Risk3':[(902,1451),(971,1490)],\n",
    "    'Sect3Risk4':[(1133,1454),(1203,1490)],\n",
    "    'Sect3Risk5':[(1295,1454),(1366,1490)],\n",
    "\n",
    "    'Sect4Risk1':[(504,1792),(572,1827)],\n",
    "    'Sect4Risk2':[(682,1791),(752,1827)],\n",
    "    'Sect4Risk3':[(902,1790),(971,1827)],\n",
    "    'Sect4Risk4':[(1134,1790),(1203,1827)],\n",
    "    'Sect4Risk5':[(1296,1792),(1366,1827)],\n",
    "\n",
    "    'Sect5Risk1':[(502,2029),(572,2070)],\n",
    "    'Sect5Risk2':[(682,2031),(752,2064)],\n",
    "    'Sect5Risk3':[(902,2028),(971,2064)],\n",
    "    'Sect5Risk4':[(1132,2028),(1203,2064)],\n",
    "    'Sect5Risk5':[(1296,2029),(1366,2064)],\n",
    "\n",
    "}"
   ]
  },
  {
   "cell_type": "code",
   "execution_count": 76,
   "metadata": {},
   "outputs": [],
   "source": [
    "cv.imshow('Display Window',img)\n",
    "k = cv.waitKey(0)\n",
    "cv.destroyAllWindows()"
   ]
  },
  {
   "cell_type": "code",
   "execution_count": 11,
   "metadata": {},
   "outputs": [],
   "source": [
    "contract_review_image = img[rect_dict['ContractReviewNumber'][0][1]:rect_dict['ContractReviewNumber'][1][1],rect_dict['ContractReviewNumber'][0][0]:rect_dict['ContractReviewNumber'][1][0]]"
   ]
  },
  {
   "cell_type": "code",
   "execution_count": 105,
   "metadata": {},
   "outputs": [
    {
     "data": {
      "text/plain": [
       "True"
      ]
     },
     "execution_count": 105,
     "metadata": {},
     "output_type": "execute_result"
    }
   ],
   "source": [
    "checkmark_img = img[836:859,486:509]\n",
    "cv.imwrite(\"checkmark_template.png\", checkmark_img)"
   ]
  },
  {
   "cell_type": "code",
   "execution_count": 13,
   "metadata": {},
   "outputs": [],
   "source": [
    "sales_order_image = img[rect_dict['SalesOrderText'][0][1]:rect_dict['SalesOrderText'][1][1],rect_dict['SalesOrderText'][0][0]:rect_dict['SalesOrderText'][1][0]]"
   ]
  },
  {
   "cell_type": "code",
   "execution_count": 14,
   "metadata": {},
   "outputs": [],
   "source": [
    "cv.imshow('Display Window',checkmark_img)\n",
    "k = cv.waitKey(0)\n",
    "cv.destroyAllWindows()"
   ]
  },
  {
   "cell_type": "code",
   "execution_count": 21,
   "metadata": {},
   "outputs": [
    {
     "name": "stdout",
     "output_type": "stream",
     "text": [
      "13344\n",
      "\n"
     ]
    }
   ],
   "source": [
    "text = str(pytesseract.image_to_string(contract_review_image,config='--psm 6'))\n",
    "print(text)"
   ]
  },
  {
   "cell_type": "code",
   "execution_count": 20,
   "metadata": {},
   "outputs": [
    {
     "name": "stdout",
     "output_type": "stream",
     "text": [
      "Sales Order\n",
      "\n"
     ]
    }
   ],
   "source": [
    "text1 = str(pytesseract.image_to_string(sales_order_image,config='--psm 6'))\n",
    "print(text1)"
   ]
  },
  {
   "cell_type": "code",
   "execution_count": 26,
   "metadata": {},
   "outputs": [],
   "source": [
    "x,y = text1.split()"
   ]
  },
  {
   "cell_type": "markdown",
   "metadata": {},
   "source": [
    "## Check if PDF is Sales Order"
   ]
  },
  {
   "cell_type": "code",
   "execution_count": 28,
   "metadata": {},
   "outputs": [
    {
     "data": {
      "text/plain": [
       "True"
      ]
     },
     "execution_count": 28,
     "metadata": {},
     "output_type": "execute_result"
    }
   ],
   "source": [
    "x == 'Sales'"
   ]
  },
  {
   "cell_type": "markdown",
   "metadata": {},
   "source": [
    "## Create a list of PDF to Iterate  "
   ]
  },
  {
   "cell_type": "code",
   "execution_count": 92,
   "metadata": {},
   "outputs": [],
   "source": [
    "import glob\n",
    "\n",
    "iter_pdfs = glob.glob('../2021 ADOBE PDFS/*.pdf')\n"
   ]
  },
  {
   "cell_type": "code",
   "execution_count": 93,
   "metadata": {},
   "outputs": [
    {
     "data": {
      "text/plain": [
       "'13344 - signed'"
      ]
     },
     "execution_count": 93,
     "metadata": {},
     "output_type": "execute_result"
    }
   ],
   "source": [
    "re.search(r'(?<=\\\\).*(?=.pdf)',iter_pdfs[0]).group()\n"
   ]
  },
  {
   "cell_type": "code",
   "execution_count": 103,
   "metadata": {},
   "outputs": [
    {
     "name": "stderr",
     "output_type": "stream",
     "text": [
      "100%|██████████| 314/314 [00:00<00:00, 34898.81it/s]"
     ]
    },
    {
     "name": "stdout",
     "output_type": "stream",
     "text": [
      "../2021 ADOBE PDFS\\13344 - signed.pdf\n",
      "../2021 ADOBE PDFS\\13346 - signed.pdf\n",
      "../2021 ADOBE PDFS\\13347 - signed.pdf\n",
      "../2021 ADOBE PDFS\\13349 - signed.pdf\n",
      "../2021 ADOBE PDFS\\13350 - signed.pdf\n",
      "../2021 ADOBE PDFS\\13352 - signed.pdf\n",
      "../2021 ADOBE PDFS\\13353 - signed.pdf\n",
      "../2021 ADOBE PDFS\\13355 - signed.pdf\n",
      "../2021 ADOBE PDFS\\13404-signed.pdf\n",
      "../2021 ADOBE PDFS\\13447-signed.pdf\n",
      "../2021 ADOBE PDFS\\PO MP00324632 SO 13508.pdf\n",
      "../2021 ADOBE PDFS\\SO 13045- signed.pdf\n",
      "../2021 ADOBE PDFS\\SO 13104 CO5 - signed.pdf\n",
      "../2021 ADOBE PDFS\\SO 13105 lines 21-24 - signed.pdf\n",
      "../2021 ADOBE PDFS\\SO 13111 Line 11-12 - signed.pdf\n",
      "../2021 ADOBE PDFS\\SO 13114 CO 4 new P_Ns - signed.pdf\n",
      "../2021 ADOBE PDFS\\SO 13115 CO 3 - signed.pdf\n",
      "../2021 ADOBE PDFS\\SO 13121 lines 11-12 - signed.pdf\n",
      "../2021 ADOBE PDFS\\SO 13213 Line 120 - signed.pdf\n",
      "../2021 ADOBE PDFS\\SO 13314 Lines 7-8, 11-12 - signed.pdf\n",
      "../2021 ADOBE PDFS\\SO 13335 - signed.pdf\n",
      "../2021 ADOBE PDFS\\SO 13336 - signed.pdf\n",
      "../2021 ADOBE PDFS\\SO 13337 - signed.pdf\n",
      "../2021 ADOBE PDFS\\SO 13338 - signed.pdf\n",
      "../2021 ADOBE PDFS\\SO 13339 - signed.pdf\n",
      "../2021 ADOBE PDFS\\SO 13340 - signed.pdf\n",
      "../2021 ADOBE PDFS\\SO 13341 - signed.pdf\n",
      "../2021 ADOBE PDFS\\SO 13345-Signed.pdf\n",
      "../2021 ADOBE PDFS\\SO 13348 - signed.pdf\n",
      "../2021 ADOBE PDFS\\SO 13351 - signed.pdf\n",
      "../2021 ADOBE PDFS\\SO 13354 - signed.pdf\n",
      "../2021 ADOBE PDFS\\SO 13356 - signed.pdf\n",
      "../2021 ADOBE PDFS\\SO 13357 - signed.pdf\n",
      "../2021 ADOBE PDFS\\SO 13358 - signed.pdf\n",
      "../2021 ADOBE PDFS\\SO 13359 - signed.pdf\n",
      "../2021 ADOBE PDFS\\SO 13360 - signed.pdf\n",
      "../2021 ADOBE PDFS\\SO 13361 - signed.pdf\n",
      "../2021 ADOBE PDFS\\SO 13362 - signed.pdf\n",
      "../2021 ADOBE PDFS\\SO 13363 - signed.pdf\n",
      "../2021 ADOBE PDFS\\SO 13364 - signed.pdf\n",
      "../2021 ADOBE PDFS\\SO 13365 - signed.pdf\n",
      "../2021 ADOBE PDFS\\SO 13366 - signed.pdf\n",
      "../2021 ADOBE PDFS\\SO 13367 - signed.pdf\n",
      "../2021 ADOBE PDFS\\SO 13368 - signed.pdf\n",
      "../2021 ADOBE PDFS\\SO 13369 - signed.pdf\n",
      "../2021 ADOBE PDFS\\SO 13370 - signed.pdf\n",
      "../2021 ADOBE PDFS\\SO 13371 - signed.pdf\n",
      "../2021 ADOBE PDFS\\SO 13372-signed.pdf\n",
      "../2021 ADOBE PDFS\\SO 13373 - signed.pdf\n",
      "../2021 ADOBE PDFS\\SO 13374 - signed.pdf\n",
      "../2021 ADOBE PDFS\\SO 13375 - signed.pdf\n",
      "../2021 ADOBE PDFS\\SO 13376 - signed.pdf\n",
      "../2021 ADOBE PDFS\\SO 13377 - signed.pdf\n",
      "../2021 ADOBE PDFS\\SO 13378 - signed.pdf\n",
      "../2021 ADOBE PDFS\\SO 13379 - signed.pdf\n",
      "../2021 ADOBE PDFS\\SO 13380 - signed.pdf\n",
      "../2021 ADOBE PDFS\\SO 13381 - signed.pdf\n",
      "../2021 ADOBE PDFS\\SO 13382 - signed.pdf\n",
      "../2021 ADOBE PDFS\\SO 13383 - signed.pdf\n",
      "../2021 ADOBE PDFS\\SO 13384 - signed.pdf\n",
      "../2021 ADOBE PDFS\\SO 13385-signed.pdf\n",
      "../2021 ADOBE PDFS\\SO 13386 - signed.pdf\n",
      "../2021 ADOBE PDFS\\SO 13387 - signed.pdf\n",
      "../2021 ADOBE PDFS\\SO 13388 - signed.pdf\n",
      "../2021 ADOBE PDFS\\SO 13389 - signed.pdf\n",
      "../2021 ADOBE PDFS\\SO 13390 - signed.pdf\n",
      "../2021 ADOBE PDFS\\SO 13391 - signed.pdf\n",
      "../2021 ADOBE PDFS\\SO 13392-signed.pdf\n",
      "../2021 ADOBE PDFS\\SO 13393 - signed.pdf\n",
      "../2021 ADOBE PDFS\\SO 13394 - signed.pdf\n",
      "../2021 ADOBE PDFS\\SO 13395 - signed.pdf\n",
      "../2021 ADOBE PDFS\\SO 13396 - signed.pdf\n",
      "../2021 ADOBE PDFS\\SO 13397 - signed.pdf\n",
      "../2021 ADOBE PDFS\\SO 13398 - signed.pdf\n",
      "../2021 ADOBE PDFS\\SO 13399 - signed.pdf\n",
      "../2021 ADOBE PDFS\\SO 13400 - signed.pdf\n",
      "../2021 ADOBE PDFS\\SO 13401 - signed.pdf\n",
      "../2021 ADOBE PDFS\\SO 13402-signed.pdf\n",
      "../2021 ADOBE PDFS\\SO 13403 - signed.pdf\n",
      "../2021 ADOBE PDFS\\SO 13406 - signed.pdf\n",
      "../2021 ADOBE PDFS\\SO 13407 - signed.pdf\n",
      "../2021 ADOBE PDFS\\SO 13408 - signed.pdf\n",
      "../2021 ADOBE PDFS\\SO 13409 - signed.pdf\n",
      "../2021 ADOBE PDFS\\SO 13410 - signed.pdf\n",
      "../2021 ADOBE PDFS\\SO 13411 - signed.pdf\n",
      "../2021 ADOBE PDFS\\SO 13412 - signed.pdf\n",
      "../2021 ADOBE PDFS\\SO 13413 - signed.pdf\n",
      "../2021 ADOBE PDFS\\SO 13414 - signed.pdf\n",
      "../2021 ADOBE PDFS\\SO 13415 - signed.pdf\n",
      "../2021 ADOBE PDFS\\SO 13416 - signed.pdf\n",
      "../2021 ADOBE PDFS\\SO 13417 - signed.pdf\n",
      "../2021 ADOBE PDFS\\SO 13419 - signed.pdf\n",
      "../2021 ADOBE PDFS\\SO 13420 - signed.pdf\n",
      "../2021 ADOBE PDFS\\SO 13421 - signed.pdf\n",
      "../2021 ADOBE PDFS\\SO 13422 - signed.pdf\n",
      "../2021 ADOBE PDFS\\SO 13423 - signed.pdf\n",
      "../2021 ADOBE PDFS\\SO 13424 - signed.pdf\n",
      "../2021 ADOBE PDFS\\SO 13425 - signed.pdf\n",
      "../2021 ADOBE PDFS\\SO 13426 - signed.pdf\n",
      "../2021 ADOBE PDFS\\SO 13426 lines 6-7 - signed.pdf\n",
      "../2021 ADOBE PDFS\\SO 13427 - signed.pdf\n",
      "../2021 ADOBE PDFS\\SO 13429 - signed.pdf\n",
      "../2021 ADOBE PDFS\\SO 13430 - signed.pdf\n",
      "../2021 ADOBE PDFS\\SO 13431 - signed.pdf\n",
      "../2021 ADOBE PDFS\\SO 13432 - signed.pdf\n",
      "../2021 ADOBE PDFS\\SO 13433 - signed.pdf\n",
      "../2021 ADOBE PDFS\\SO 13434 - signed.pdf\n",
      "../2021 ADOBE PDFS\\SO 13435 - signed.pdf\n",
      "../2021 ADOBE PDFS\\SO 13436 - signed.pdf\n",
      "../2021 ADOBE PDFS\\SO 13437 - signed.pdf\n",
      "../2021 ADOBE PDFS\\SO 13438 - signed.pdf\n",
      "../2021 ADOBE PDFS\\SO 13439 - signed.pdf\n",
      "../2021 ADOBE PDFS\\SO 13440 - signed.pdf\n",
      "../2021 ADOBE PDFS\\SO 13441 - signed.pdf\n",
      "../2021 ADOBE PDFS\\SO 13442 - signed.pdf\n",
      "../2021 ADOBE PDFS\\SO 13443 - signed.pdf\n",
      "../2021 ADOBE PDFS\\SO 13444 - signed.pdf\n",
      "../2021 ADOBE PDFS\\SO 13446 - signed.pdf\n",
      "../2021 ADOBE PDFS\\SO 13448 - signed.pdf\n",
      "../2021 ADOBE PDFS\\SO 13449 - signed.pdf\n",
      "../2021 ADOBE PDFS\\SO 13450 - signed.pdf\n",
      "../2021 ADOBE PDFS\\SO 13451 - signed.pdf\n",
      "../2021 ADOBE PDFS\\SO 13452 - signed.pdf\n",
      "../2021 ADOBE PDFS\\SO 13453 - signed.pdf\n",
      "../2021 ADOBE PDFS\\SO 13454 - signed.pdf\n",
      "../2021 ADOBE PDFS\\SO 13455 - signed.pdf\n",
      "../2021 ADOBE PDFS\\SO 13456 - signed.pdf\n",
      "../2021 ADOBE PDFS\\SO 13457 - signed.pdf\n",
      "../2021 ADOBE PDFS\\SO 13458 - signed.pdf\n",
      "../2021 ADOBE PDFS\\SO 13459 - signed.pdf\n",
      "../2021 ADOBE PDFS\\SO 13460 - signed.pdf\n",
      "../2021 ADOBE PDFS\\SO 13461 - signed.pdf\n",
      "../2021 ADOBE PDFS\\SO 13462 - signed.pdf\n",
      "../2021 ADOBE PDFS\\SO 13463 - signed.pdf\n",
      "../2021 ADOBE PDFS\\SO 13464 - signed.pdf\n",
      "../2021 ADOBE PDFS\\SO 13465 - signed.pdf\n",
      "../2021 ADOBE PDFS\\SO 13466 - signed.pdf\n",
      "../2021 ADOBE PDFS\\SO 13467 - signed.pdf\n",
      "../2021 ADOBE PDFS\\SO 13468 - signed.pdf\n",
      "../2021 ADOBE PDFS\\SO 13469 - signed.pdf\n",
      "../2021 ADOBE PDFS\\SO 13470 - signed.pdf\n",
      "../2021 ADOBE PDFS\\SO 13471 - signed.pdf\n",
      "../2021 ADOBE PDFS\\SO 13472 - signed.pdf\n",
      "../2021 ADOBE PDFS\\SO 13473 - signed.pdf\n",
      "../2021 ADOBE PDFS\\SO 13474 - signed.pdf\n",
      "../2021 ADOBE PDFS\\SO 13475 - signed.pdf\n",
      "../2021 ADOBE PDFS\\SO 13476-SIGNED.pdf\n",
      "../2021 ADOBE PDFS\\SO 13477 - signed.pdf\n",
      "../2021 ADOBE PDFS\\SO 13478 - signed.pdf\n",
      "../2021 ADOBE PDFS\\SO 13479 - signed.pdf\n",
      "../2021 ADOBE PDFS\\SO 13480 - signed.pdf\n",
      "../2021 ADOBE PDFS\\SO 13481 - signed.pdf\n",
      "../2021 ADOBE PDFS\\SO 13482 - signed.pdf\n",
      "../2021 ADOBE PDFS\\SO 13483 - signed.pdf\n",
      "../2021 ADOBE PDFS\\SO 13484 - signed.pdf\n",
      "../2021 ADOBE PDFS\\SO 13485 - signed.pdf\n",
      "../2021 ADOBE PDFS\\SO 13486 - signed.pdf\n",
      "../2021 ADOBE PDFS\\SO 13487 - signed.pdf\n",
      "../2021 ADOBE PDFS\\SO 13489 - signed.pdf\n",
      "../2021 ADOBE PDFS\\SO 13490 - signed.pdf\n",
      "../2021 ADOBE PDFS\\SO 13491 - signed.pdf\n",
      "../2021 ADOBE PDFS\\SO 13492 - signed.pdf\n",
      "../2021 ADOBE PDFS\\SO 13494 - signed.pdf\n",
      "../2021 ADOBE PDFS\\SO 13495 - signed.pdf\n",
      "../2021 ADOBE PDFS\\SO 13496 - signed.pdf\n",
      "../2021 ADOBE PDFS\\SO 13497 - signed.pdf\n",
      "../2021 ADOBE PDFS\\SO 13498 - signed.pdf\n",
      "../2021 ADOBE PDFS\\SO 13504 - signed.pdf\n",
      "../2021 ADOBE PDFS\\SO 13505 - signed.pdf\n",
      "../2021 ADOBE PDFS\\SO 13506 - signed.pdf\n",
      "../2021 ADOBE PDFS\\SO 13507 - signed.pdf\n",
      "../2021 ADOBE PDFS\\SO 13509 - signed.pdf\n",
      "../2021 ADOBE PDFS\\SO 13510 - signed.pdf\n",
      "../2021 ADOBE PDFS\\SO 13511 - signed.pdf\n",
      "../2021 ADOBE PDFS\\SO 13512 - signed.pdf\n",
      "../2021 ADOBE PDFS\\SO 13513 - signed.pdf\n",
      "../2021 ADOBE PDFS\\SO 13514 - signed.pdf\n",
      "../2021 ADOBE PDFS\\SO 13515 - signed.pdf\n",
      "../2021 ADOBE PDFS\\SO 13516 - signed.pdf\n",
      "../2021 ADOBE PDFS\\SO 13517 - signed.pdf\n",
      "../2021 ADOBE PDFS\\SO 13517 CO 1 - signed.pdf\n",
      "../2021 ADOBE PDFS\\SO 13518 - signed.pdf\n",
      "../2021 ADOBE PDFS\\SO 13519 - signed.pdf\n",
      "../2021 ADOBE PDFS\\SO 13520 - signed.pdf\n",
      "../2021 ADOBE PDFS\\SO 13521 - signed.pdf\n",
      "../2021 ADOBE PDFS\\SO 13522 - signed.pdf\n",
      "../2021 ADOBE PDFS\\SO 13523 - signed.pdf\n",
      "../2021 ADOBE PDFS\\SO 13524 - signed.pdf\n",
      "../2021 ADOBE PDFS\\SO 13525 - signed.pdf\n",
      "../2021 ADOBE PDFS\\SO 13526 - signed.pdf\n",
      "../2021 ADOBE PDFS\\SO 13527 - signed.pdf\n",
      "../2021 ADOBE PDFS\\SO 13528 - signed.pdf\n",
      "../2021 ADOBE PDFS\\SO 13529 - signed.pdf\n",
      "../2021 ADOBE PDFS\\SO 13530 - signed.pdf\n",
      "../2021 ADOBE PDFS\\SO 13533 - signed.pdf\n",
      "../2021 ADOBE PDFS\\SO 13534 - signed.pdf\n",
      "../2021 ADOBE PDFS\\SO 13535 - signed.pdf\n",
      "../2021 ADOBE PDFS\\SO 13536 - signed.pdf\n",
      "../2021 ADOBE PDFS\\SO 13537 - signed.pdf\n",
      "../2021 ADOBE PDFS\\SO 13538 - signed.pdf\n",
      "../2021 ADOBE PDFS\\SO 13539 - signed.pdf\n",
      "../2021 ADOBE PDFS\\SO 13540 - signed.pdf\n",
      "../2021 ADOBE PDFS\\SO 13541 - signed.pdf\n",
      "../2021 ADOBE PDFS\\SO 13549 - signed.pdf\n",
      "../2021 ADOBE PDFS\\SO 13551 - signed.pdf\n",
      "../2021 ADOBE PDFS\\SO 13552 - signed.pdf\n",
      "../2021 ADOBE PDFS\\SO 13553 - signed.pdf\n",
      "../2021 ADOBE PDFS\\SO 13554 - signed.pdf\n",
      "../2021 ADOBE PDFS\\SO 13555 - signed.pdf\n",
      "../2021 ADOBE PDFS\\SO 13556 - signed.pdf\n",
      "../2021 ADOBE PDFS\\SO 13557 - signed.pdf\n",
      "../2021 ADOBE PDFS\\SO 13558 - signed.pdf\n",
      "../2021 ADOBE PDFS\\SO 13559 - signed.pdf\n",
      "../2021 ADOBE PDFS\\SO 13561  CO 1 - signed.pdf\n",
      "../2021 ADOBE PDFS\\SO 13562  CO 1 - signed.pdf\n",
      "../2021 ADOBE PDFS\\SO 13563 - signed.pdf\n",
      "../2021 ADOBE PDFS\\SO 13564 - signed.pdf\n",
      "../2021 ADOBE PDFS\\SO 13565 - signed.pdf\n",
      "../2021 ADOBE PDFS\\SO 13566 - signed.pdf\n",
      "../2021 ADOBE PDFS\\SO 13567-signed.pdf\n",
      "../2021 ADOBE PDFS\\SO 13568-signed.pdf\n",
      "../2021 ADOBE PDFS\\SO 13569 - signed.pdf\n",
      "../2021 ADOBE PDFS\\SO 13570 - signed.pdf\n",
      "../2021 ADOBE PDFS\\SO 13571-signed.pdf\n",
      "../2021 ADOBE PDFS\\SO 13572 - signed.pdf\n",
      "../2021 ADOBE PDFS\\SO 13573 - signed.pdf\n",
      "../2021 ADOBE PDFS\\SO 13574 - signed.pdf\n",
      "../2021 ADOBE PDFS\\SO 13575 - signed.pdf\n",
      "../2021 ADOBE PDFS\\SO 13576 - signed.pdf\n",
      "../2021 ADOBE PDFS\\SO 13577 - signed.pdf\n",
      "../2021 ADOBE PDFS\\SO 13578 - signed.pdf\n",
      "../2021 ADOBE PDFS\\SO 13579 - signed.pdf\n",
      "../2021 ADOBE PDFS\\SO 13580 - signed.pdf\n",
      "../2021 ADOBE PDFS\\SO 13581 - signed.pdf\n",
      "../2021 ADOBE PDFS\\SO 13582 - signed.pdf\n",
      "../2021 ADOBE PDFS\\SO 13583 - signed.pdf\n",
      "../2021 ADOBE PDFS\\SO 13584 - signed.pdf\n",
      "../2021 ADOBE PDFS\\SO 13585.pdf\n",
      "../2021 ADOBE PDFS\\SO 13586 - signed.pdf\n",
      "../2021 ADOBE PDFS\\SO 13587 - signed.pdf\n",
      "../2021 ADOBE PDFS\\SO 13588 - signed.pdf\n",
      "../2021 ADOBE PDFS\\SO 13589 - signed.pdf\n",
      "../2021 ADOBE PDFS\\SO 13590 - signed.pdf\n",
      "../2021 ADOBE PDFS\\SO 13591 - signed.pdf\n",
      "../2021 ADOBE PDFS\\SO 13592 - signed.pdf\n",
      "../2021 ADOBE PDFS\\SO 13593 - signed.pdf\n",
      "../2021 ADOBE PDFS\\SO 13594 - signed.pdf\n",
      "../2021 ADOBE PDFS\\SO 13595 - signed.pdf\n",
      "../2021 ADOBE PDFS\\SO 13596 - signed.pdf\n",
      "../2021 ADOBE PDFS\\SO 13597 - signed.pdf\n",
      "../2021 ADOBE PDFS\\SO 13598 - signed.pdf\n",
      "../2021 ADOBE PDFS\\SO 13599 - signed.pdf\n",
      "../2021 ADOBE PDFS\\SO 13600 - signed.pdf\n",
      "../2021 ADOBE PDFS\\SO 13601 - signed.pdf\n",
      "../2021 ADOBE PDFS\\SO 13602 - signed.pdf\n",
      "../2021 ADOBE PDFS\\SO 13603 - signed.pdf\n",
      "../2021 ADOBE PDFS\\SO 13604 - signed.pdf\n",
      "../2021 ADOBE PDFS\\SO 13605 - signed.pdf\n",
      "../2021 ADOBE PDFS\\SO 13606 - signed.pdf\n",
      "../2021 ADOBE PDFS\\SO 13607 - signed.pdf\n",
      "../2021 ADOBE PDFS\\SO 13608 - signed.pdf\n",
      "../2021 ADOBE PDFS\\SO 13609 - signed.pdf\n",
      "../2021 ADOBE PDFS\\SO 13610 - signed.pdf\n",
      "../2021 ADOBE PDFS\\SO 13611 - signed.pdf\n",
      "../2021 ADOBE PDFS\\SO 13612 - signed.pdf\n",
      "../2021 ADOBE PDFS\\SO 13613 - signed.pdf\n",
      "../2021 ADOBE PDFS\\SO 13614 - signed.pdf\n",
      "../2021 ADOBE PDFS\\SO 13615 - signed.pdf\n",
      "../2021 ADOBE PDFS\\SO 13616 - signed.pdf\n",
      "../2021 ADOBE PDFS\\SO 13617 - signed.pdf\n",
      "../2021 ADOBE PDFS\\SO 13618 - signed.pdf\n",
      "../2021 ADOBE PDFS\\SO 13619 - signed.pdf\n",
      "../2021 ADOBE PDFS\\SO 13620 - signed.pdf\n",
      "../2021 ADOBE PDFS\\SO 13621 - signed.pdf\n",
      "../2021 ADOBE PDFS\\SO 13622 - signed.pdf\n",
      "../2021 ADOBE PDFS\\SO 13623 - signed.pdf\n",
      "../2021 ADOBE PDFS\\SO 13624 - signed.pdf\n",
      "../2021 ADOBE PDFS\\SO 13625 - signed.pdf\n",
      "../2021 ADOBE PDFS\\SO 13626 - signed.pdf\n",
      "../2021 ADOBE PDFS\\SO 13627 - signed.pdf\n",
      "../2021 ADOBE PDFS\\SO 13628 - signed.pdf\n",
      "../2021 ADOBE PDFS\\SO 13629 - signed.pdf\n",
      "../2021 ADOBE PDFS\\SO 13630 - signed.pdf\n",
      "../2021 ADOBE PDFS\\SO 13631 - signed.pdf\n",
      "../2021 ADOBE PDFS\\SO 13632 - signed.pdf\n",
      "../2021 ADOBE PDFS\\SO 13633 - signed.pdf\n",
      "../2021 ADOBE PDFS\\SO 13634 - signed.pdf\n",
      "../2021 ADOBE PDFS\\SO 13635 - signed.pdf\n",
      "../2021 ADOBE PDFS\\SO 13636 - signed.pdf\n",
      "../2021 ADOBE PDFS\\SO 13637 - signed.pdf\n",
      "../2021 ADOBE PDFS\\SO 13638 - signed.pdf\n",
      "../2021 ADOBE PDFS\\SO 13639 - signed.pdf\n",
      "../2021 ADOBE PDFS\\SO 13640 - signed.pdf\n",
      "../2021 ADOBE PDFS\\SO 13641 - signed.pdf\n",
      "../2021 ADOBE PDFS\\SO 13642 - signed.pdf\n",
      "../2021 ADOBE PDFS\\SO 13643 - signed.pdf\n",
      "../2021 ADOBE PDFS\\SO 13644 - signed.pdf\n",
      "../2021 ADOBE PDFS\\SO 13645 - signed.pdf\n",
      "../2021 ADOBE PDFS\\SO 13646 - signed.pdf\n",
      "../2021 ADOBE PDFS\\SO 13647 - signed.pdf\n",
      "../2021 ADOBE PDFS\\SO 13648 - signed.pdf\n",
      "../2021 ADOBE PDFS\\SO 13649 - signed.pdf\n",
      "../2021 ADOBE PDFS\\SO 13650 - signed.pdf\n",
      "../2021 ADOBE PDFS\\SO 13651 - signed.pdf\n",
      "../2021 ADOBE PDFS\\SO 13652 - signed.pdf\n",
      "../2021 ADOBE PDFS\\SO 13653 - signed.pdf\n",
      "../2021 ADOBE PDFS\\SO 13654 - signed.pdf\n",
      "../2021 ADOBE PDFS\\SO 13655 - signed.pdf\n",
      "../2021 ADOBE PDFS\\SO 13656 - signed.pdf\n",
      "../2021 ADOBE PDFS\\SO 13657 - signed.pdf\n",
      "../2021 ADOBE PDFS\\SO 13658 - signed.pdf\n",
      "../2021 ADOBE PDFS\\SO 13659 - signed.pdf\n",
      "../2021 ADOBE PDFS\\SO 13660 - signed.pdf\n",
      "../2021 ADOBE PDFS\\SO 13661 - signed.pdf\n"
     ]
    },
    {
     "name": "stderr",
     "output_type": "stream",
     "text": [
      "\n"
     ]
    }
   ],
   "source": [
    "for i in tqdm(iter_pdfs):\n",
    "    print(i)"
   ]
  },
  {
   "cell_type": "code",
   "execution_count": 17,
   "metadata": {},
   "outputs": [],
   "source": [
    "for i in iter_pdfs:\n",
    "    filename = re.search(r'(?<=\\\\).*(?=.pdf)',i).group()\n",
    "    doc = fitz.open(i)\n",
    "    j=0\n",
    "    for page in doc:\n",
    "        pix = page.get_pixmap(dpi=200)\n",
    "        pix.save( '.\\\\PDF_IMAGE\\\\' + filename + 'image-page-'+ str(j) + '-' + '.png')\n",
    "        j+=1\n",
    "        \n",
    "    "
   ]
  },
  {
   "cell_type": "code",
   "execution_count": 104,
   "metadata": {},
   "outputs": [],
   "source": [
    "iter_pngs = glob.glob('../MRM-Contract-Review/PDF_IMAGE\\*.png')"
   ]
  },
  {
   "cell_type": "code",
   "execution_count": 20,
   "metadata": {},
   "outputs": [
    {
     "data": {
      "text/plain": [
       "['../MRM-Contract-Review\\\\new-out.png',\n",
       " '../MRM-Contract-Review\\\\TESSERACT PSM MODES.png']"
      ]
     },
     "execution_count": 20,
     "metadata": {},
     "output_type": "execute_result"
    }
   ],
   "source": [
    "iter_pngs"
   ]
  },
  {
   "cell_type": "markdown",
   "metadata": {},
   "source": [
    "## Identify The Required Part Number"
   ]
  },
  {
   "cell_type": "code",
   "execution_count": 12,
   "metadata": {},
   "outputs": [],
   "source": [
    "part_number_image = img[rect_dict['PartText'][0][1]:rect_dict['PartText'][1][1],rect_dict['PartText'][0][0]:rect_dict['PartText'][1][0]]"
   ]
  },
  {
   "cell_type": "code",
   "execution_count": 13,
   "metadata": {},
   "outputs": [
    {
     "name": "stdout",
     "output_type": "stream",
     "text": [
      "1TD1135D17306-2001\n",
      "\n"
     ]
    }
   ],
   "source": [
    "text1 = str(pytesseract.image_to_string(part_number_image,config='--psm 6'))\n",
    "print(text1)"
   ]
  },
  {
   "cell_type": "markdown",
   "metadata": {},
   "source": [
    "# Create Overall Scan of PDF\n",
    "\n"
   ]
  },
  {
   "cell_type": "code",
   "execution_count": 82,
   "metadata": {},
   "outputs": [],
   "source": [
    "def scan_pdf(image):\n",
    "    \n",
    "    new_dict = {}\n",
    "    for k,v in rect_dict_check.items():\n",
    "        section_img = image[v[0][1]:v[1][1],v[0][0]:v[1][0]]\n",
    "        cv.imshow('Display Window',section_img)\n",
    "        h = cv.waitKey(0)\n",
    "        cv.destroyAllWindows()\n",
    "        if k.startswith('Sect'):\n",
    "            res = cv.matchTemplate(section_img,checkmark_img,cv.TM_SQDIFF_NORMED)\n",
    "            min_val,max_val,min_loc,max_loc = cv.minMaxLoc(res)\n",
    "            res =  cv.cvtColor(res,cv.COLOR_GRAY2RGB)\n",
    "\n",
    "            if max_val >= .85:\n",
    "                new_dict[k]=True\n",
    "            else:\n",
    "                new_dict[k]=False\n",
    "            \n",
    "        \n",
    "            print('Size' + str(res.shape))\n",
    "            print('Min Location :' + str(min_loc))\n",
    "            print('Min Value:' +str(min_val))\n",
    "            print('Max Value :' + str(max_val))\n",
    "            cv.imshow('Display Window',res)\n",
    "            h = cv.waitKey(0)\n",
    "            cv.destroyAllWindows()\n",
    "        else:\n",
    "            text1 = str(pytesseract.image_to_string(section_img,config='--psm 6'))\n",
    "            text1 = text1.replace('\\n','')\n",
    "            new_dict[k] = text1\n",
    "            \n",
    "    return new_dict\n",
    "\n"
   ]
  },
  {
   "cell_type": "code",
   "execution_count": 102,
   "metadata": {},
   "outputs": [
    {
     "name": "stdout",
     "output_type": "stream",
     "text": [
      "Size(18, 44, 3)\n",
      "Min Location :(35, 0)\n",
      "Min Value:0.30010175704956055\n",
      "Max Value :0.6518339514732361\n",
      "Size(16, 44, 3)\n",
      "Min Location :(33, 0)\n",
      "Min Value:0.2989291548728943\n",
      "Max Value :0.6610305309295654\n",
      "Size(22, 42, 3)\n",
      "Min Location :(15, 14)\n",
      "Min Value:0.09065192937850952\n",
      "Max Value :0.898411750793457\n",
      "Size(17, 46, 3)\n",
      "Min Location :(36, 0)\n",
      "Min Value:0.2999151945114136\n",
      "Max Value :0.6542117595672607\n",
      "Size(16, 46, 3)\n",
      "Min Location :(6, 6)\n",
      "Min Value:0.36287128925323486\n",
      "Max Value :0.653843104839325\n",
      "Size(13, 47, 3)\n",
      "Min Location :(37, 0)\n",
      "Min Value:0.36393922567367554\n",
      "Max Value :0.6666252017021179\n",
      "Size(13, 48, 3)\n",
      "Min Location :(7, 5)\n",
      "Min Value:0.3628714978694916\n",
      "Max Value :0.6795076131820679\n",
      "Size(13, 47, 3)\n",
      "Min Location :(19, 7)\n",
      "Min Value:0.01907680556178093\n",
      "Max Value :0.9093653559684753\n",
      "Size(16, 48, 3)\n",
      "Min Location :(47, 0)\n",
      "Min Value:0.3557611107826233\n",
      "Max Value :0.674643874168396\n",
      "Size(16, 34, 3)\n",
      "Min Location :(31, 0)\n",
      "Min Value:0.33775556087493896\n",
      "Max Value :0.6447212100028992\n",
      "Size(13, 45, 3)\n",
      "Min Location :(11, 6)\n",
      "Min Value:0.35459133982658386\n",
      "Max Value :0.6667419672012329\n",
      "Size(14, 48, 3)\n",
      "Min Location :(37, 0)\n",
      "Min Value:0.33232778310775757\n",
      "Max Value :0.6657582521438599\n",
      "Size(17, 47, 3)\n",
      "Min Location :(20, 12)\n",
      "Min Value:0.07385901361703873\n",
      "Max Value :0.9102931618690491\n",
      "Size(14, 48, 3)\n",
      "Min Location :(43, 0)\n",
      "Min Value:0.34330448508262634\n",
      "Max Value :0.6781352758407593\n",
      "Size(14, 49, 3)\n",
      "Min Location :(37, 0)\n",
      "Min Value:0.35011711716651917\n",
      "Max Value :0.6667419672012329\n",
      "Size(13, 46, 3)\n",
      "Min Location :(32, 0)\n",
      "Min Value:0.35175397992134094\n",
      "Max Value :0.65183424949646\n",
      "Size(14, 48, 3)\n",
      "Min Location :(37, 6)\n",
      "Min Value:0.35459133982658386\n",
      "Max Value :0.6385816931724548\n",
      "Size(15, 47, 3)\n",
      "Min Location :(18, 5)\n",
      "Min Value:0.0\n",
      "Max Value :0.9346704483032227\n",
      "Size(15, 47, 3)\n",
      "Min Location :(37, 0)\n",
      "Min Value:0.3509800434112549\n",
      "Max Value :0.6434513926506042\n",
      "Size(13, 48, 3)\n",
      "Min Location :(38, 5)\n",
      "Min Value:0.35548335313796997\n",
      "Max Value :0.6409422755241394\n",
      "Size(19, 48, 3)\n",
      "Min Location :(46, 0)\n",
      "Min Value:0.3079555928707123\n",
      "Max Value :0.6685500144958496\n",
      "Size(11, 48, 3)\n",
      "Min Location :(20, 7)\n",
      "Min Value:0.07147302478551865\n",
      "Max Value :0.9079692959785461\n",
      "Size(14, 47, 3)\n",
      "Min Location :(34, 0)\n",
      "Min Value:0.34385839104652405\n",
      "Max Value :0.6626357436180115\n",
      "Size(14, 49, 3)\n",
      "Min Location :(41, 0)\n",
      "Min Value:0.34055715799331665\n",
      "Max Value :0.6677907705307007\n",
      "Size(13, 48, 3)\n",
      "Min Location :(44, 0)\n",
      "Min Value:0.348879873752594\n",
      "Max Value :0.6542121767997742\n"
     ]
    }
   ],
   "source": [
    "test_df = scan_pdf(img)"
   ]
  },
  {
   "cell_type": "code",
   "execution_count": 103,
   "metadata": {},
   "outputs": [
    {
     "data": {
      "text/plain": [
       "{'Sect1Risk1': False,\n",
       " 'Sect1Risk2': False,\n",
       " 'Sect1Risk3': True,\n",
       " 'Sect1Risk4': False,\n",
       " 'Sect1Risk5': False,\n",
       " 'Sect2Risk1': False,\n",
       " 'Sect2Risk2': False,\n",
       " 'Sect2Risk3': True,\n",
       " 'Sect2Risk4': False,\n",
       " 'Sect2Risk5': False,\n",
       " 'Sect3Risk1': False,\n",
       " 'Sect3Risk2': False,\n",
       " 'Sect3Risk3': True,\n",
       " 'Sect3Risk4': False,\n",
       " 'Sect3Risk5': False,\n",
       " 'Sect4Risk1': False,\n",
       " 'Sect4Risk2': False,\n",
       " 'Sect4Risk3': True,\n",
       " 'Sect4Risk4': False,\n",
       " 'Sect4Risk5': False,\n",
       " 'Sect5Risk1': False,\n",
       " 'Sect5Risk2': True,\n",
       " 'Sect5Risk3': False,\n",
       " 'Sect5Risk4': False,\n",
       " 'Sect5Risk5': False}"
      ]
     },
     "execution_count": 103,
     "metadata": {},
     "output_type": "execute_result"
    }
   ],
   "source": [
    "test_df"
   ]
  },
  {
   "cell_type": "markdown",
   "metadata": {},
   "source": [
    "## Append Test"
   ]
  },
  {
   "cell_type": "code",
   "execution_count": 70,
   "metadata": {},
   "outputs": [],
   "source": [
    "import pandas as pd"
   ]
  },
  {
   "cell_type": "code",
   "execution_count": 82,
   "metadata": {},
   "outputs": [],
   "source": [
    "df = pd.DataFrame.from_records([scan_pdf(img)])"
   ]
  },
  {
   "cell_type": "code",
   "execution_count": 113,
   "metadata": {},
   "outputs": [
    {
     "data": {
      "text/plain": [
       "array([[[255, 255, 255],\n",
       "        [255, 255, 255],\n",
       "        [255, 255, 255],\n",
       "        ...,\n",
       "        [255, 255, 255],\n",
       "        [255, 255, 255],\n",
       "        [255, 255, 255]],\n",
       "\n",
       "       [[255, 255, 255],\n",
       "        [255, 255, 255],\n",
       "        [255, 255, 255],\n",
       "        ...,\n",
       "        [255, 255, 255],\n",
       "        [255, 255, 255],\n",
       "        [255, 255, 255]],\n",
       "\n",
       "       [[255, 255, 255],\n",
       "        [255, 255, 255],\n",
       "        [255, 255, 255],\n",
       "        ...,\n",
       "        [255, 255, 255],\n",
       "        [255, 255, 255],\n",
       "        [255, 255, 255]],\n",
       "\n",
       "       ...,\n",
       "\n",
       "       [[255, 255, 255],\n",
       "        [255, 255, 255],\n",
       "        [255, 255, 255],\n",
       "        ...,\n",
       "        [255, 255, 255],\n",
       "        [255, 255, 255],\n",
       "        [255, 255, 255]],\n",
       "\n",
       "       [[255, 255, 255],\n",
       "        [255, 255, 255],\n",
       "        [255, 255, 255],\n",
       "        ...,\n",
       "        [255, 255, 255],\n",
       "        [255, 255, 255],\n",
       "        [255, 255, 255]],\n",
       "\n",
       "       [[255, 255, 255],\n",
       "        [255, 255, 255],\n",
       "        [255, 255, 255],\n",
       "        ...,\n",
       "        [255, 255, 255],\n",
       "        [255, 255, 255],\n",
       "        [255, 255, 255]]], dtype=uint8)"
      ]
     },
     "execution_count": 113,
     "metadata": {},
     "output_type": "execute_result"
    }
   ],
   "source": [
    "img"
   ]
  },
  {
   "cell_type": "code",
   "execution_count": 108,
   "metadata": {},
   "outputs": [],
   "source": [
    "df2 = pd.DataFrame.from_records([scan_pdf(img)])"
   ]
  },
  {
   "cell_type": "code",
   "execution_count": 85,
   "metadata": {},
   "outputs": [],
   "source": [
    "df3 = pd.concat([df,df2])"
   ]
  },
  {
   "cell_type": "code",
   "execution_count": 91,
   "metadata": {},
   "outputs": [
    {
     "data": {
      "text/html": [
       "<div>\n",
       "<style scoped>\n",
       "    .dataframe tbody tr th:only-of-type {\n",
       "        vertical-align: middle;\n",
       "    }\n",
       "\n",
       "    .dataframe tbody tr th {\n",
       "        vertical-align: top;\n",
       "    }\n",
       "\n",
       "    .dataframe thead th {\n",
       "        text-align: right;\n",
       "    }\n",
       "</style>\n",
       "<table border=\"1\" class=\"dataframe\">\n",
       "  <thead>\n",
       "    <tr style=\"text-align: right;\">\n",
       "      <th></th>\n",
       "      <th>Sect1Risk1</th>\n",
       "      <th>Sect1Risk2</th>\n",
       "      <th>Sect1Risk3</th>\n",
       "      <th>Sect1Risk4</th>\n",
       "      <th>Sect1Risk5</th>\n",
       "      <th>Sect2Risk1</th>\n",
       "      <th>Sect2Risk2</th>\n",
       "      <th>Sect2Risk3</th>\n",
       "      <th>Sect2Risk4</th>\n",
       "      <th>Sect2Risk5</th>\n",
       "      <th>...</th>\n",
       "      <th>Sect4Risk4</th>\n",
       "      <th>Sect4Risk5</th>\n",
       "      <th>Sect5Risk1</th>\n",
       "      <th>Sect5Risk2</th>\n",
       "      <th>Sect5Risk3</th>\n",
       "      <th>Sect5Risk4</th>\n",
       "      <th>Sect5Risk5</th>\n",
       "      <th>ContractReviewNumber</th>\n",
       "      <th>SalesOrderText</th>\n",
       "      <th>PartText</th>\n",
       "    </tr>\n",
       "  </thead>\n",
       "  <tbody>\n",
       "    <tr>\n",
       "      <th>0</th>\n",
       "      <td>False</td>\n",
       "      <td>False</td>\n",
       "      <td>True</td>\n",
       "      <td>False</td>\n",
       "      <td>False</td>\n",
       "      <td>False</td>\n",
       "      <td>False</td>\n",
       "      <td>True</td>\n",
       "      <td>False</td>\n",
       "      <td>False</td>\n",
       "      <td>...</td>\n",
       "      <td>False</td>\n",
       "      <td>False</td>\n",
       "      <td>False</td>\n",
       "      <td>False</td>\n",
       "      <td>True</td>\n",
       "      <td>False</td>\n",
       "      <td>False</td>\n",
       "      <td>13344</td>\n",
       "      <td>Sales Order</td>\n",
       "      <td>1TD1135D17306-2001</td>\n",
       "    </tr>\n",
       "    <tr>\n",
       "      <th>1</th>\n",
       "      <td>False</td>\n",
       "      <td>False</td>\n",
       "      <td>True</td>\n",
       "      <td>False</td>\n",
       "      <td>False</td>\n",
       "      <td>False</td>\n",
       "      <td>False</td>\n",
       "      <td>True</td>\n",
       "      <td>False</td>\n",
       "      <td>False</td>\n",
       "      <td>...</td>\n",
       "      <td>False</td>\n",
       "      <td>False</td>\n",
       "      <td>False</td>\n",
       "      <td>False</td>\n",
       "      <td>True</td>\n",
       "      <td>False</td>\n",
       "      <td>False</td>\n",
       "      <td>13344</td>\n",
       "      <td>Sales Order</td>\n",
       "      <td>1TD1135D17306-2001</td>\n",
       "    </tr>\n",
       "  </tbody>\n",
       "</table>\n",
       "<p>2 rows × 28 columns</p>\n",
       "</div>"
      ],
      "text/plain": [
       "   Sect1Risk1  Sect1Risk2  Sect1Risk3  Sect1Risk4  Sect1Risk5  Sect2Risk1  \\\n",
       "0       False       False        True       False       False       False   \n",
       "1       False       False        True       False       False       False   \n",
       "\n",
       "   Sect2Risk2  Sect2Risk3  Sect2Risk4  Sect2Risk5  ...  Sect4Risk4  \\\n",
       "0       False        True       False       False  ...       False   \n",
       "1       False        True       False       False  ...       False   \n",
       "\n",
       "   Sect4Risk5  Sect5Risk1  Sect5Risk2  Sect5Risk3  Sect5Risk4  Sect5Risk5  \\\n",
       "0       False       False       False        True       False       False   \n",
       "1       False       False       False        True       False       False   \n",
       "\n",
       "   ContractReviewNumber  SalesOrderText            PartText  \n",
       "0                 13344     Sales Order  1TD1135D17306-2001  \n",
       "1                 13344     Sales Order  1TD1135D17306-2001  \n",
       "\n",
       "[2 rows x 28 columns]"
      ]
     },
     "execution_count": 91,
     "metadata": {},
     "output_type": "execute_result"
    }
   ],
   "source": [
    "df3.reset_index(drop=True)"
   ]
  },
  {
   "cell_type": "code",
   "execution_count": 109,
   "metadata": {},
   "outputs": [
    {
     "data": {
      "text/html": [
       "<div>\n",
       "<style scoped>\n",
       "    .dataframe tbody tr th:only-of-type {\n",
       "        vertical-align: middle;\n",
       "    }\n",
       "\n",
       "    .dataframe tbody tr th {\n",
       "        vertical-align: top;\n",
       "    }\n",
       "\n",
       "    .dataframe thead th {\n",
       "        text-align: right;\n",
       "    }\n",
       "</style>\n",
       "<table border=\"1\" class=\"dataframe\">\n",
       "  <thead>\n",
       "    <tr style=\"text-align: right;\">\n",
       "      <th></th>\n",
       "      <th>Sect1Risk1</th>\n",
       "      <th>Sect1Risk2</th>\n",
       "      <th>Sect1Risk3</th>\n",
       "      <th>Sect1Risk4</th>\n",
       "      <th>Sect1Risk5</th>\n",
       "      <th>Sect2Risk1</th>\n",
       "      <th>Sect2Risk2</th>\n",
       "      <th>Sect2Risk3</th>\n",
       "      <th>Sect2Risk4</th>\n",
       "      <th>Sect2Risk5</th>\n",
       "      <th>...</th>\n",
       "      <th>Sect4Risk4</th>\n",
       "      <th>Sect4Risk5</th>\n",
       "      <th>Sect5Risk1</th>\n",
       "      <th>Sect5Risk2</th>\n",
       "      <th>Sect5Risk3</th>\n",
       "      <th>Sect5Risk4</th>\n",
       "      <th>Sect5Risk5</th>\n",
       "      <th>ContractReviewNumber</th>\n",
       "      <th>SalesOrderText</th>\n",
       "      <th>PartText</th>\n",
       "    </tr>\n",
       "  </thead>\n",
       "  <tbody>\n",
       "    <tr>\n",
       "      <th>0</th>\n",
       "      <td>False</td>\n",
       "      <td>False</td>\n",
       "      <td>True</td>\n",
       "      <td>False</td>\n",
       "      <td>False</td>\n",
       "      <td>False</td>\n",
       "      <td>False</td>\n",
       "      <td>True</td>\n",
       "      <td>False</td>\n",
       "      <td>False</td>\n",
       "      <td>...</td>\n",
       "      <td>False</td>\n",
       "      <td>False</td>\n",
       "      <td>False</td>\n",
       "      <td>False</td>\n",
       "      <td>True</td>\n",
       "      <td>False</td>\n",
       "      <td>False</td>\n",
       "      <td>13344</td>\n",
       "      <td>Sales Order</td>\n",
       "      <td>1TD1135D17306-2001</td>\n",
       "    </tr>\n",
       "  </tbody>\n",
       "</table>\n",
       "<p>1 rows × 28 columns</p>\n",
       "</div>"
      ],
      "text/plain": [
       "   Sect1Risk1  Sect1Risk2  Sect1Risk3  Sect1Risk4  Sect1Risk5  Sect2Risk1  \\\n",
       "0       False       False        True       False       False       False   \n",
       "\n",
       "   Sect2Risk2  Sect2Risk3  Sect2Risk4  Sect2Risk5  ...  Sect4Risk4  \\\n",
       "0       False        True       False       False  ...       False   \n",
       "\n",
       "   Sect4Risk5  Sect5Risk1  Sect5Risk2  Sect5Risk3  Sect5Risk4  Sect5Risk5  \\\n",
       "0       False       False       False        True       False       False   \n",
       "\n",
       "   ContractReviewNumber  SalesOrderText            PartText  \n",
       "0                 13344     Sales Order  1TD1135D17306-2001  \n",
       "\n",
       "[1 rows x 28 columns]"
      ]
     },
     "execution_count": 109,
     "metadata": {},
     "output_type": "execute_result"
    }
   ],
   "source": [
    "df"
   ]
  },
  {
   "cell_type": "code",
   "execution_count": 106,
   "metadata": {},
   "outputs": [
    {
     "data": {
      "text/html": [
       "<div>\n",
       "<style scoped>\n",
       "    .dataframe tbody tr th:only-of-type {\n",
       "        vertical-align: middle;\n",
       "    }\n",
       "\n",
       "    .dataframe tbody tr th {\n",
       "        vertical-align: top;\n",
       "    }\n",
       "\n",
       "    .dataframe thead th {\n",
       "        text-align: right;\n",
       "    }\n",
       "</style>\n",
       "<table border=\"1\" class=\"dataframe\">\n",
       "  <thead>\n",
       "    <tr style=\"text-align: right;\">\n",
       "      <th></th>\n",
       "      <th>Sect1Risk1</th>\n",
       "      <th>Sect1Risk2</th>\n",
       "      <th>Sect1Risk3</th>\n",
       "      <th>Sect1Risk4</th>\n",
       "      <th>Sect1Risk5</th>\n",
       "      <th>Sect2Risk1</th>\n",
       "      <th>Sect2Risk2</th>\n",
       "      <th>Sect2Risk3</th>\n",
       "      <th>Sect2Risk4</th>\n",
       "      <th>Sect2Risk5</th>\n",
       "      <th>...</th>\n",
       "      <th>Sect4Risk4</th>\n",
       "      <th>Sect4Risk5</th>\n",
       "      <th>Sect5Risk1</th>\n",
       "      <th>Sect5Risk2</th>\n",
       "      <th>Sect5Risk3</th>\n",
       "      <th>Sect5Risk4</th>\n",
       "      <th>Sect5Risk5</th>\n",
       "      <th>ContractReviewNumber</th>\n",
       "      <th>SalesOrderText</th>\n",
       "      <th>PartText</th>\n",
       "    </tr>\n",
       "  </thead>\n",
       "  <tbody>\n",
       "    <tr>\n",
       "      <th>0</th>\n",
       "      <td>False</td>\n",
       "      <td>False</td>\n",
       "      <td>True</td>\n",
       "      <td>False</td>\n",
       "      <td>False</td>\n",
       "      <td>False</td>\n",
       "      <td>False</td>\n",
       "      <td>True</td>\n",
       "      <td>False</td>\n",
       "      <td>False</td>\n",
       "      <td>...</td>\n",
       "      <td>False</td>\n",
       "      <td>False</td>\n",
       "      <td>False</td>\n",
       "      <td>False</td>\n",
       "      <td>True</td>\n",
       "      <td>False</td>\n",
       "      <td>False</td>\n",
       "      <td>13344</td>\n",
       "      <td>Sales Order</td>\n",
       "      <td>1TD1135D17306-2001</td>\n",
       "    </tr>\n",
       "  </tbody>\n",
       "</table>\n",
       "<p>1 rows × 28 columns</p>\n",
       "</div>"
      ],
      "text/plain": [
       "   Sect1Risk1  Sect1Risk2  Sect1Risk3  Sect1Risk4  Sect1Risk5  Sect2Risk1  \\\n",
       "0       False       False        True       False       False       False   \n",
       "\n",
       "   Sect2Risk2  Sect2Risk3  Sect2Risk4  Sect2Risk5  ...  Sect4Risk4  \\\n",
       "0       False        True       False       False  ...       False   \n",
       "\n",
       "   Sect4Risk5  Sect5Risk1  Sect5Risk2  Sect5Risk3  Sect5Risk4  Sect5Risk5  \\\n",
       "0       False       False       False        True       False       False   \n",
       "\n",
       "   ContractReviewNumber  SalesOrderText            PartText  \n",
       "0                 13344     Sales Order  1TD1135D17306-2001  \n",
       "\n",
       "[1 rows x 28 columns]"
      ]
     },
     "execution_count": 106,
     "metadata": {},
     "output_type": "execute_result"
    }
   ],
   "source": [
    "df"
   ]
  },
  {
   "cell_type": "code",
   "execution_count": 102,
   "metadata": {},
   "outputs": [],
   "source": [
    "from tqdm import tqdm"
   ]
  },
  {
   "cell_type": "code",
   "execution_count": 120,
   "metadata": {},
   "outputs": [
    {
     "name": "stderr",
     "output_type": "stream",
     "text": [
      "100%|██████████| 1419/1419 [2:44:48<00:00,  6.97s/it] \n"
     ]
    }
   ],
   "source": [
    "\n",
    "\n",
    "for scan in tqdm(iter_pngs):\n",
    "    img_scan = cv.imread(scan)\n",
    "    df_add = pd.DataFrame.from_records([scan_pdf(img_scan)])\n",
    "    if df_add['SalesOrderText'][0] == 'Sales Order':\n",
    "        df = pd.concat([df,df_add])\n",
    "    else:\n",
    "        pass\n",
    "        "
   ]
  },
  {
   "cell_type": "code",
   "execution_count": 121,
   "metadata": {},
   "outputs": [],
   "source": [
    "df.to_csv('output.csv')"
   ]
  },
  {
   "cell_type": "code",
   "execution_count": 122,
   "metadata": {},
   "outputs": [
    {
     "data": {
      "text/plain": [
       "<bound method DataFrame.count of     Sect1Risk1  Sect1Risk2  Sect1Risk3  Sect1Risk4  Sect1Risk5  Sect2Risk1  \\\n",
       "0        False       False        True       False       False       False   \n",
       "0        False       False        True       False       False       False   \n",
       "0         True        True        True        True       False       False   \n",
       "0        False       False       False       False       False       False   \n",
       "0        False       False       False       False       False        True   \n",
       "..         ...         ...         ...         ...         ...         ...   \n",
       "0         True       False       False       False       False        True   \n",
       "0         True        True        True        True       False        True   \n",
       "0         True        True        True        True       False       False   \n",
       "0        False       False        True       False       False       False   \n",
       "0         True        True        True        True       False       False   \n",
       "\n",
       "    Sect2Risk2  Sect2Risk3  Sect2Risk4  Sect2Risk5  ...  Sect4Risk4  \\\n",
       "0        False        True       False       False  ...       False   \n",
       "0        False        True       False       False  ...       False   \n",
       "0        False        True       False        True  ...       False   \n",
       "0        False       False       False       False  ...       False   \n",
       "0         True       False       False       False  ...       False   \n",
       "..         ...         ...         ...         ...  ...         ...   \n",
       "0        False       False       False       False  ...       False   \n",
       "0        False        True       False        True  ...       False   \n",
       "0         True        True       False        True  ...       False   \n",
       "0        False        True       False       False  ...       False   \n",
       "0        False        True       False        True  ...       False   \n",
       "\n",
       "    Sect4Risk5  Sect5Risk1  Sect5Risk2  Sect5Risk3  Sect5Risk4  Sect5Risk5  \\\n",
       "0        False       False       False        True       False       False   \n",
       "0        False       False       False        True       False       False   \n",
       "0        False        True       False        True        True       False   \n",
       "0        False       False       False       False       False       False   \n",
       "0        False       False       False       False       False       False   \n",
       "..         ...         ...         ...         ...         ...         ...   \n",
       "0        False        True       False       False       False       False   \n",
       "0        False        True       False        True        True       False   \n",
       "0        False        True       False        True        True       False   \n",
       "0        False        True       False       False       False       False   \n",
       "0        False        True       False        True        True       False   \n",
       "\n",
       "    ContractReviewNumber  SalesOrderText                    PartText  \n",
       "0                  13344     Sales Order          1TD1135D17306-2001  \n",
       "0                  13344     Sales Order          1TD1135D17306-2001  \n",
       "0                  13344     Sales Order          1TD1135D17306-2003  \n",
       "0       ECmaile frank ve     esearch.com                              \n",
       "0                                         MSa VU AT (UCN EU IK Taols  \n",
       "..                   ...             ...                         ...  \n",
       "0                  13659     Sales Order          1TD13G6D32403-2305  \n",
       "0                  13659     Sales Order          1TD13G6D32403-2303  \n",
       "0                  13660     Sales Order             70305-02107-103  \n",
       "0                  13661     Sales Order          K0305NP004312-4005  \n",
       "0                  13661     Sales Order          K0305NP004312-4009  \n",
       "\n",
       "[474 rows x 28 columns]>"
      ]
     },
     "execution_count": 122,
     "metadata": {},
     "output_type": "execute_result"
    }
   ],
   "source": [
    "df.count"
   ]
  },
  {
   "cell_type": "markdown",
   "metadata": {},
   "source": [
    "# Import Computed CSV File"
   ]
  },
  {
   "cell_type": "code",
   "execution_count": 1,
   "metadata": {},
   "outputs": [],
   "source": [
    "import pandas as pd\n",
    "import numpy as np "
   ]
  },
  {
   "cell_type": "code",
   "execution_count": 2,
   "metadata": {},
   "outputs": [],
   "source": [
    "df = pd.read_csv('output.csv',)"
   ]
  },
  {
   "cell_type": "code",
   "execution_count": 5,
   "metadata": {},
   "outputs": [],
   "source": [
    "df.drop(columns=['Unnamed: 0'],inplace=True)"
   ]
  },
  {
   "cell_type": "code",
   "execution_count": 10,
   "metadata": {},
   "outputs": [],
   "source": [
    "df.dropna(axis =0,inplace = True)"
   ]
  },
  {
   "cell_type": "code",
   "execution_count": 34,
   "metadata": {},
   "outputs": [
    {
     "data": {
      "text/plain": [
       "array(['13344', '13346', '13347', '13349', '13350', '13352', '13353',\n",
       "       '13355', '13014', '13105', '13111', '13114', '13115', '13121',\n",
       "       '13213', '13314', '13335', '13336', '13337', '13338', '13339',\n",
       "       '13340', '13341', '13348', '13351', '13354', '13356', '13357',\n",
       "       '13358', '13359', '13360', '13361', '13362', '13363', '13364',\n",
       "       '13365', '13366', '13367', '13368', '13369', '13370', '13371',\n",
       "       '13373', '13374', '13375', '13376', '13377', '13378', '13379',\n",
       "       '13380', '13381', '13382', '13383', '13384', '13386', '13387',\n",
       "       '13388', '13389', '13390', '13391', '13393', '13394', '13395',\n",
       "       '13396', '13397', '13398', '13399', '13400', '13401', '13403',\n",
       "       '13406', '13407', '13408', '13409', '13410', '13411', '13412',\n",
       "       '13413', '13414', '13415', '13416', '13417', '13419', '13420',\n",
       "       '13421', '13422', '13423', '13424', '13425', '13426', '13427',\n",
       "       '13429', '13430', '13431', '13432', '13433', '13434', '13435',\n",
       "       '13436', '13437', '13438', '13439', '13440', '13441', '13442',\n",
       "       '13443', '13444', '13446', '13448', '13449', '13450', '13451',\n",
       "       '13452', '13453', '13454', '13455', '13456', '13457', '13458',\n",
       "       '13459', '13460', '13461', '13462', '13463', '13464', '13465',\n",
       "       '13466', '13467', '13468', '13469', '13470', '13471', '13472',\n",
       "       '13473', '13474', '13475', '13476', '13477', '13478', '13479',\n",
       "       '13480', '13481', '13482', '13483', '13484', '13485', '13486',\n",
       "       '13487', '13489', '13490', '13491', '13492', '13494', '13495',\n",
       "       '13496', '13497', '13498', '13504', '13505', '13506', '13507',\n",
       "       '13509', '13510', '13511', '13512', '13513', '13514', '13515',\n",
       "       '13516', '13517', '13518', '13519', '13520', '13521', '13522',\n",
       "       '13523', '13524', '13525', '13526', '13527', '13528', '13529',\n",
       "       '13530', '13533', '13534', '13535', '13536', '13537', '13538',\n",
       "       '13539', '13540', '13541', '13549', '13551', '13552', '13553',\n",
       "       '13554', '13555', '13556', '13557', '13558', '13559', '13561',\n",
       "       '13562', '13563', '13564', '13565', '13566', '13567', '13568',\n",
       "       '13569', '13570', '13571', '13572', '13573', '13574', '13575',\n",
       "       '13576', '13577', '13578', '13579', '13580', '13581', '13582',\n",
       "       '13583', '13584', '13586', '13587', '13588', '13589', '13590',\n",
       "       '13591', '13592', '13593', '13594', '13595', '13596', '13597',\n",
       "       '13598', '13599', '13600', '13601', '13602', '13603', '13604',\n",
       "       '13605', '13606', '13607', '13608', '13609', '13610', '13611',\n",
       "       '13612', '13613', '13614', '13615', '13616', '13617', '13618',\n",
       "       '13619', '13620', '13621', '13622', '13623', '13624', '13625',\n",
       "       '13626', '13627', '13628', '13629', '13630', '13631', '13632',\n",
       "       '13633', '13634', '13635', '13636', '13637', '13638', '13639',\n",
       "       '13640', '13641', '13642', '13643', '13644', '13645', '13646',\n",
       "       '13647', '13648', '13649', '13650', '13651', '13652', '13653',\n",
       "       '13654', '13655', '13656', '13657', '13658', '13659', '13660',\n",
       "       '13661'], dtype=object)"
      ]
     },
     "execution_count": 34,
     "metadata": {},
     "output_type": "execute_result"
    }
   ],
   "source": [
    "cols = [col for col in df.columns if col not in ['ContractReviewNumber','SalesOrderText','PartText']]\n",
    "df[df[cols].sum(axis=1) >5]['ContractReviewNumber'].unique()"
   ]
  },
  {
   "cell_type": "code",
   "execution_count": 13,
   "metadata": {},
   "outputs": [],
   "source": [
    "df = df[df['SalesOrderText'] == 'Sales Order' ]"
   ]
  },
  {
   "cell_type": "code",
   "execution_count": 26,
   "metadata": {},
   "outputs": [
    {
     "data": {
      "text/plain": [
       "Sect1Risk1                            True\n",
       "Sect1Risk2                            True\n",
       "Sect1Risk3                            True\n",
       "Sect1Risk4                            True\n",
       "Sect1Risk5                           False\n",
       "Sect2Risk1                           False\n",
       "Sect2Risk2                           False\n",
       "Sect2Risk3                            True\n",
       "Sect2Risk4                           False\n",
       "Sect2Risk5                            True\n",
       "Sect3Risk1                           False\n",
       "Sect3Risk2                           False\n",
       "Sect3Risk3                            True\n",
       "Sect3Risk4                           False\n",
       "Sect3Risk5                           False\n",
       "Sect4Risk1                           False\n",
       "Sect4Risk2                           False\n",
       "Sect4Risk3                            True\n",
       "Sect4Risk4                           False\n",
       "Sect4Risk5                           False\n",
       "Sect5Risk1                            True\n",
       "Sect5Risk2                           False\n",
       "Sect5Risk3                            True\n",
       "Sect5Risk4                            True\n",
       "Sect5Risk5                           False\n",
       "ContractReviewNumber                 13661\n",
       "SalesOrderText                 Sales Order\n",
       "PartText                K0305NP004312-4009\n",
       "Name: 473, dtype: object"
      ]
     },
     "execution_count": 26,
     "metadata": {},
     "output_type": "execute_result"
    }
   ],
   "source": [
    "df.iloc[470]"
   ]
  },
  {
   "cell_type": "code",
   "execution_count": null,
   "metadata": {},
   "outputs": [],
   "source": []
  }
 ],
 "metadata": {
  "interpreter": {
   "hash": "3d4d1dcd82f2b441c6a8d02fa21b0d9d24df611f0816b00298884217c941a9f6"
  },
  "kernelspec": {
   "display_name": "Python 3.9.6 ('report_devops')",
   "language": "python",
   "name": "python3"
  },
  "language_info": {
   "codemirror_mode": {
    "name": "ipython",
    "version": 3
   },
   "file_extension": ".py",
   "mimetype": "text/x-python",
   "name": "python",
   "nbconvert_exporter": "python",
   "pygments_lexer": "ipython3",
   "version": "3.9.6"
  },
  "orig_nbformat": 4
 },
 "nbformat": 4,
 "nbformat_minor": 2
}
